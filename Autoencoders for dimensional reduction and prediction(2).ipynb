{
 "cells": [
  {
   "cell_type": "code",
   "execution_count": 10,
   "id": "ee3f5a77",
   "metadata": {},
   "outputs": [],
   "source": [
    "from tensorflow import keras\n",
    "from tensorflow.keras import layers\n",
    "from tensorflow.keras.models import Sequential \n",
    "from tensorflow.keras.layers import Dense, Dropout, Flatten,Input,Reshape, concatenate\n",
    "from tensorflow.keras.layers import Conv1D, MaxPooling1D, LSTM,Conv1DTranspose,UpSampling1D,AveragePooling1D\n",
    "from tensorflow.keras.models import model_from_json\n",
    "from tensorflow.keras import backend as K \n",
    "import numpy as np\n",
    "import pandas as pd\n",
    "import seaborn as sns\n",
    "import sklearn\n",
    "import matplotlib.pyplot as plt\n",
    "from sklearn.model_selection import train_test_split\n",
    "from sklearn.preprocessing import MinMaxScaler\n",
    "from sklearn.metrics import accuracy_score,classification_report,confusion_matrix,f1_score,precision_score,recall_score\n",
    "from sklearn.decomposition import KernelPCA,PCA\n",
    "from sklearn.preprocessing import StandardScaler\n",
    "from time import time\n",
    "# from sklearn.svm import SVC\n",
    "# from sklearn.neighbors import KNeighborsClassifier\n",
    "# from sklearn.ensemble import RandomForestClassifier,AdaBoostClassifier\n",
    "# from sklearn.ensemble import GradientBoostingClassifier\n",
    "# from sklearn.linear_model import LogisticRegression\n",
    "# from sklearn.tree import DecisionTreeClassifier\n",
    "# from sklearn.naive_bayes import BernoulliNB\n",
    "import pickle\n",
    "from tensorflow.keras.models import Model\n",
    "from tensorflow.keras.models import Sequential,Model\n",
    "from tensorflow.keras.optimizers import Adam\n",
    "# from keras import layers\n",
    "from tensorflow.keras.models import Sequential \n",
    "# from focal_loss import binary_focal_loss\n",
    "from sklearn.metrics import roc_auc_score, roc_curve\n",
    "from sklearn.model_selection import KFold \n",
    "import xai.xai as xai\n",
    "import xai.xai.data\n",
    "import shap\n",
    "import tensorflow as tf\n",
    "import numpy as np\n",
    "import matplotlib.pyplot as plt"
   ]
  },
  {
   "cell_type": "code",
   "execution_count": 2,
   "id": "65e9a8a9",
   "metadata": {},
   "outputs": [
    {
     "data": {
      "text/plain": [
       "'2.10.0'"
      ]
     },
     "execution_count": 2,
     "metadata": {},
     "output_type": "execute_result"
    }
   ],
   "source": [
    "import tensorflow as tf\n",
    "tf.__version__"
   ]
  },
  {
   "cell_type": "code",
   "execution_count": 3,
   "id": "455c5e7f",
   "metadata": {},
   "outputs": [],
   "source": [
    "df=pd.read_csv(\"dataset_0-32000_1-25000.csv\")"
   ]
  },
  {
   "cell_type": "code",
   "execution_count": 4,
   "id": "a45e3003",
   "metadata": {},
   "outputs": [
    {
     "data": {
      "text/html": [
       "<div>\n",
       "<style scoped>\n",
       "    .dataframe tbody tr th:only-of-type {\n",
       "        vertical-align: middle;\n",
       "    }\n",
       "\n",
       "    .dataframe tbody tr th {\n",
       "        vertical-align: top;\n",
       "    }\n",
       "\n",
       "    .dataframe thead th {\n",
       "        text-align: right;\n",
       "    }\n",
       "</style>\n",
       "<table border=\"1\" class=\"dataframe\">\n",
       "  <thead>\n",
       "    <tr style=\"text-align: right;\">\n",
       "      <th></th>\n",
       "      <th>Unnamed: 0</th>\n",
       "      <th>HR</th>\n",
       "      <th>O2Sat</th>\n",
       "      <th>Temp</th>\n",
       "      <th>SBP</th>\n",
       "      <th>MAP</th>\n",
       "      <th>DBP</th>\n",
       "      <th>Resp</th>\n",
       "      <th>BaseExcess</th>\n",
       "      <th>HCO3</th>\n",
       "      <th>...</th>\n",
       "      <th>Phosphate</th>\n",
       "      <th>Potassium</th>\n",
       "      <th>Hct</th>\n",
       "      <th>Hgb</th>\n",
       "      <th>PTT</th>\n",
       "      <th>WBC</th>\n",
       "      <th>Platelets</th>\n",
       "      <th>Age</th>\n",
       "      <th>SepsisLabel</th>\n",
       "      <th>SIRS</th>\n",
       "    </tr>\n",
       "  </thead>\n",
       "  <tbody>\n",
       "    <tr>\n",
       "      <th>0</th>\n",
       "      <td>0</td>\n",
       "      <td>80.147727</td>\n",
       "      <td>97.295455</td>\n",
       "      <td>37.080909</td>\n",
       "      <td>106.068182</td>\n",
       "      <td>59.924318</td>\n",
       "      <td>39.641932</td>\n",
       "      <td>16.625000</td>\n",
       "      <td>-0.022727</td>\n",
       "      <td>25.590909</td>\n",
       "      <td>...</td>\n",
       "      <td>3.415909</td>\n",
       "      <td>4.229545</td>\n",
       "      <td>27.227273</td>\n",
       "      <td>9.212500</td>\n",
       "      <td>28.675000</td>\n",
       "      <td>12.561364</td>\n",
       "      <td>248.795455</td>\n",
       "      <td>77.0</td>\n",
       "      <td>0.0</td>\n",
       "      <td>1.0</td>\n",
       "    </tr>\n",
       "    <tr>\n",
       "      <th>1</th>\n",
       "      <td>1</td>\n",
       "      <td>80.867647</td>\n",
       "      <td>97.338235</td>\n",
       "      <td>36.910294</td>\n",
       "      <td>99.294118</td>\n",
       "      <td>62.132647</td>\n",
       "      <td>44.860294</td>\n",
       "      <td>17.426471</td>\n",
       "      <td>-0.514706</td>\n",
       "      <td>25.794118</td>\n",
       "      <td>...</td>\n",
       "      <td>3.385294</td>\n",
       "      <td>4.238235</td>\n",
       "      <td>29.480882</td>\n",
       "      <td>9.967647</td>\n",
       "      <td>43.573529</td>\n",
       "      <td>11.250000</td>\n",
       "      <td>118.676471</td>\n",
       "      <td>79.0</td>\n",
       "      <td>0.0</td>\n",
       "      <td>0.0</td>\n",
       "    </tr>\n",
       "    <tr>\n",
       "      <th>2</th>\n",
       "      <td>2</td>\n",
       "      <td>89.638889</td>\n",
       "      <td>97.583333</td>\n",
       "      <td>37.046667</td>\n",
       "      <td>120.194444</td>\n",
       "      <td>77.648333</td>\n",
       "      <td>54.069722</td>\n",
       "      <td>19.916667</td>\n",
       "      <td>5.666667</td>\n",
       "      <td>30.944444</td>\n",
       "      <td>...</td>\n",
       "      <td>3.861111</td>\n",
       "      <td>4.133333</td>\n",
       "      <td>31.594444</td>\n",
       "      <td>10.761111</td>\n",
       "      <td>30.366667</td>\n",
       "      <td>13.483333</td>\n",
       "      <td>406.333333</td>\n",
       "      <td>81.0</td>\n",
       "      <td>0.0</td>\n",
       "      <td>1.0</td>\n",
       "    </tr>\n",
       "    <tr>\n",
       "      <th>3</th>\n",
       "      <td>3</td>\n",
       "      <td>81.391892</td>\n",
       "      <td>97.662162</td>\n",
       "      <td>36.869730</td>\n",
       "      <td>114.587838</td>\n",
       "      <td>84.567748</td>\n",
       "      <td>67.534054</td>\n",
       "      <td>19.108108</td>\n",
       "      <td>-0.756757</td>\n",
       "      <td>23.621622</td>\n",
       "      <td>...</td>\n",
       "      <td>2.948649</td>\n",
       "      <td>3.951351</td>\n",
       "      <td>33.808108</td>\n",
       "      <td>11.640541</td>\n",
       "      <td>72.045946</td>\n",
       "      <td>9.929730</td>\n",
       "      <td>153.864865</td>\n",
       "      <td>57.0</td>\n",
       "      <td>0.0</td>\n",
       "      <td>0.0</td>\n",
       "    </tr>\n",
       "    <tr>\n",
       "      <th>4</th>\n",
       "      <td>4</td>\n",
       "      <td>98.000000</td>\n",
       "      <td>97.473684</td>\n",
       "      <td>37.222632</td>\n",
       "      <td>110.657895</td>\n",
       "      <td>74.948421</td>\n",
       "      <td>57.816842</td>\n",
       "      <td>20.894737</td>\n",
       "      <td>0.710526</td>\n",
       "      <td>24.157895</td>\n",
       "      <td>...</td>\n",
       "      <td>3.231579</td>\n",
       "      <td>4.126316</td>\n",
       "      <td>28.336842</td>\n",
       "      <td>9.352632</td>\n",
       "      <td>34.463158</td>\n",
       "      <td>18.244737</td>\n",
       "      <td>615.157895</td>\n",
       "      <td>28.0</td>\n",
       "      <td>0.0</td>\n",
       "      <td>3.0</td>\n",
       "    </tr>\n",
       "  </tbody>\n",
       "</table>\n",
       "<p>5 rows × 31 columns</p>\n",
       "</div>"
      ],
      "text/plain": [
       "   Unnamed: 0         HR      O2Sat       Temp         SBP        MAP  \\\n",
       "0           0  80.147727  97.295455  37.080909  106.068182  59.924318   \n",
       "1           1  80.867647  97.338235  36.910294   99.294118  62.132647   \n",
       "2           2  89.638889  97.583333  37.046667  120.194444  77.648333   \n",
       "3           3  81.391892  97.662162  36.869730  114.587838  84.567748   \n",
       "4           4  98.000000  97.473684  37.222632  110.657895  74.948421   \n",
       "\n",
       "         DBP       Resp  BaseExcess       HCO3  ...  Phosphate  Potassium  \\\n",
       "0  39.641932  16.625000   -0.022727  25.590909  ...   3.415909   4.229545   \n",
       "1  44.860294  17.426471   -0.514706  25.794118  ...   3.385294   4.238235   \n",
       "2  54.069722  19.916667    5.666667  30.944444  ...   3.861111   4.133333   \n",
       "3  67.534054  19.108108   -0.756757  23.621622  ...   2.948649   3.951351   \n",
       "4  57.816842  20.894737    0.710526  24.157895  ...   3.231579   4.126316   \n",
       "\n",
       "         Hct        Hgb        PTT        WBC   Platelets   Age  SepsisLabel  \\\n",
       "0  27.227273   9.212500  28.675000  12.561364  248.795455  77.0          0.0   \n",
       "1  29.480882   9.967647  43.573529  11.250000  118.676471  79.0          0.0   \n",
       "2  31.594444  10.761111  30.366667  13.483333  406.333333  81.0          0.0   \n",
       "3  33.808108  11.640541  72.045946   9.929730  153.864865  57.0          0.0   \n",
       "4  28.336842   9.352632  34.463158  18.244737  615.157895  28.0          0.0   \n",
       "\n",
       "   SIRS  \n",
       "0   1.0  \n",
       "1   0.0  \n",
       "2   1.0  \n",
       "3   0.0  \n",
       "4   3.0  \n",
       "\n",
       "[5 rows x 31 columns]"
      ]
     },
     "execution_count": 4,
     "metadata": {},
     "output_type": "execute_result"
    }
   ],
   "source": [
    "df.head()"
   ]
  },
  {
   "cell_type": "code",
   "execution_count": 5,
   "id": "3570a38e",
   "metadata": {},
   "outputs": [
    {
     "data": {
      "text/html": [
       "<div>\n",
       "<style scoped>\n",
       "    .dataframe tbody tr th:only-of-type {\n",
       "        vertical-align: middle;\n",
       "    }\n",
       "\n",
       "    .dataframe tbody tr th {\n",
       "        vertical-align: top;\n",
       "    }\n",
       "\n",
       "    .dataframe thead th {\n",
       "        text-align: right;\n",
       "    }\n",
       "</style>\n",
       "<table border=\"1\" class=\"dataframe\">\n",
       "  <thead>\n",
       "    <tr style=\"text-align: right;\">\n",
       "      <th></th>\n",
       "      <th>HR</th>\n",
       "      <th>O2Sat</th>\n",
       "      <th>Temp</th>\n",
       "      <th>SBP</th>\n",
       "      <th>MAP</th>\n",
       "      <th>DBP</th>\n",
       "      <th>Resp</th>\n",
       "      <th>BaseExcess</th>\n",
       "      <th>HCO3</th>\n",
       "      <th>FiO2</th>\n",
       "      <th>...</th>\n",
       "      <th>Phosphate</th>\n",
       "      <th>Potassium</th>\n",
       "      <th>Hct</th>\n",
       "      <th>Hgb</th>\n",
       "      <th>PTT</th>\n",
       "      <th>WBC</th>\n",
       "      <th>Platelets</th>\n",
       "      <th>Age</th>\n",
       "      <th>SepsisLabel</th>\n",
       "      <th>SIRS</th>\n",
       "    </tr>\n",
       "  </thead>\n",
       "  <tbody>\n",
       "    <tr>\n",
       "      <th>0</th>\n",
       "      <td>80.147727</td>\n",
       "      <td>97.295455</td>\n",
       "      <td>37.080909</td>\n",
       "      <td>106.068182</td>\n",
       "      <td>59.924318</td>\n",
       "      <td>39.641932</td>\n",
       "      <td>16.625000</td>\n",
       "      <td>-0.022727</td>\n",
       "      <td>25.590909</td>\n",
       "      <td>0.526136</td>\n",
       "      <td>...</td>\n",
       "      <td>3.415909</td>\n",
       "      <td>4.229545</td>\n",
       "      <td>27.227273</td>\n",
       "      <td>9.212500</td>\n",
       "      <td>28.675000</td>\n",
       "      <td>12.561364</td>\n",
       "      <td>248.795455</td>\n",
       "      <td>77.0</td>\n",
       "      <td>0.0</td>\n",
       "      <td>1.0</td>\n",
       "    </tr>\n",
       "    <tr>\n",
       "      <th>1</th>\n",
       "      <td>80.867647</td>\n",
       "      <td>97.338235</td>\n",
       "      <td>36.910294</td>\n",
       "      <td>99.294118</td>\n",
       "      <td>62.132647</td>\n",
       "      <td>44.860294</td>\n",
       "      <td>17.426471</td>\n",
       "      <td>-0.514706</td>\n",
       "      <td>25.794118</td>\n",
       "      <td>0.576471</td>\n",
       "      <td>...</td>\n",
       "      <td>3.385294</td>\n",
       "      <td>4.238235</td>\n",
       "      <td>29.480882</td>\n",
       "      <td>9.967647</td>\n",
       "      <td>43.573529</td>\n",
       "      <td>11.250000</td>\n",
       "      <td>118.676471</td>\n",
       "      <td>79.0</td>\n",
       "      <td>0.0</td>\n",
       "      <td>0.0</td>\n",
       "    </tr>\n",
       "    <tr>\n",
       "      <th>2</th>\n",
       "      <td>89.638889</td>\n",
       "      <td>97.583333</td>\n",
       "      <td>37.046667</td>\n",
       "      <td>120.194444</td>\n",
       "      <td>77.648333</td>\n",
       "      <td>54.069722</td>\n",
       "      <td>19.916667</td>\n",
       "      <td>5.666667</td>\n",
       "      <td>30.944444</td>\n",
       "      <td>0.583333</td>\n",
       "      <td>...</td>\n",
       "      <td>3.861111</td>\n",
       "      <td>4.133333</td>\n",
       "      <td>31.594444</td>\n",
       "      <td>10.761111</td>\n",
       "      <td>30.366667</td>\n",
       "      <td>13.483333</td>\n",
       "      <td>406.333333</td>\n",
       "      <td>81.0</td>\n",
       "      <td>0.0</td>\n",
       "      <td>1.0</td>\n",
       "    </tr>\n",
       "    <tr>\n",
       "      <th>3</th>\n",
       "      <td>81.391892</td>\n",
       "      <td>97.662162</td>\n",
       "      <td>36.869730</td>\n",
       "      <td>114.587838</td>\n",
       "      <td>84.567748</td>\n",
       "      <td>67.534054</td>\n",
       "      <td>19.108108</td>\n",
       "      <td>-0.756757</td>\n",
       "      <td>23.621622</td>\n",
       "      <td>0.467568</td>\n",
       "      <td>...</td>\n",
       "      <td>2.948649</td>\n",
       "      <td>3.951351</td>\n",
       "      <td>33.808108</td>\n",
       "      <td>11.640541</td>\n",
       "      <td>72.045946</td>\n",
       "      <td>9.929730</td>\n",
       "      <td>153.864865</td>\n",
       "      <td>57.0</td>\n",
       "      <td>0.0</td>\n",
       "      <td>0.0</td>\n",
       "    </tr>\n",
       "    <tr>\n",
       "      <th>4</th>\n",
       "      <td>98.000000</td>\n",
       "      <td>97.473684</td>\n",
       "      <td>37.222632</td>\n",
       "      <td>110.657895</td>\n",
       "      <td>74.948421</td>\n",
       "      <td>57.816842</td>\n",
       "      <td>20.894737</td>\n",
       "      <td>0.710526</td>\n",
       "      <td>24.157895</td>\n",
       "      <td>0.513158</td>\n",
       "      <td>...</td>\n",
       "      <td>3.231579</td>\n",
       "      <td>4.126316</td>\n",
       "      <td>28.336842</td>\n",
       "      <td>9.352632</td>\n",
       "      <td>34.463158</td>\n",
       "      <td>18.244737</td>\n",
       "      <td>615.157895</td>\n",
       "      <td>28.0</td>\n",
       "      <td>0.0</td>\n",
       "      <td>3.0</td>\n",
       "    </tr>\n",
       "  </tbody>\n",
       "</table>\n",
       "<p>5 rows × 30 columns</p>\n",
       "</div>"
      ],
      "text/plain": [
       "          HR      O2Sat       Temp         SBP        MAP        DBP  \\\n",
       "0  80.147727  97.295455  37.080909  106.068182  59.924318  39.641932   \n",
       "1  80.867647  97.338235  36.910294   99.294118  62.132647  44.860294   \n",
       "2  89.638889  97.583333  37.046667  120.194444  77.648333  54.069722   \n",
       "3  81.391892  97.662162  36.869730  114.587838  84.567748  67.534054   \n",
       "4  98.000000  97.473684  37.222632  110.657895  74.948421  57.816842   \n",
       "\n",
       "        Resp  BaseExcess       HCO3      FiO2  ...  Phosphate  Potassium  \\\n",
       "0  16.625000   -0.022727  25.590909  0.526136  ...   3.415909   4.229545   \n",
       "1  17.426471   -0.514706  25.794118  0.576471  ...   3.385294   4.238235   \n",
       "2  19.916667    5.666667  30.944444  0.583333  ...   3.861111   4.133333   \n",
       "3  19.108108   -0.756757  23.621622  0.467568  ...   2.948649   3.951351   \n",
       "4  20.894737    0.710526  24.157895  0.513158  ...   3.231579   4.126316   \n",
       "\n",
       "         Hct        Hgb        PTT        WBC   Platelets   Age  SepsisLabel  \\\n",
       "0  27.227273   9.212500  28.675000  12.561364  248.795455  77.0          0.0   \n",
       "1  29.480882   9.967647  43.573529  11.250000  118.676471  79.0          0.0   \n",
       "2  31.594444  10.761111  30.366667  13.483333  406.333333  81.0          0.0   \n",
       "3  33.808108  11.640541  72.045946   9.929730  153.864865  57.0          0.0   \n",
       "4  28.336842   9.352632  34.463158  18.244737  615.157895  28.0          0.0   \n",
       "\n",
       "   SIRS  \n",
       "0   1.0  \n",
       "1   0.0  \n",
       "2   1.0  \n",
       "3   0.0  \n",
       "4   3.0  \n",
       "\n",
       "[5 rows x 30 columns]"
      ]
     },
     "execution_count": 5,
     "metadata": {},
     "output_type": "execute_result"
    }
   ],
   "source": [
    "df=df.drop('Unnamed: 0',axis=1)\n",
    "df.head()"
   ]
  },
  {
   "cell_type": "code",
   "execution_count": 6,
   "id": "279dcfc1",
   "metadata": {},
   "outputs": [
    {
     "data": {
      "text/plain": [
       "0.0    32000\n",
       "1.0    25000\n",
       "Name: SepsisLabel, dtype: int64"
      ]
     },
     "execution_count": 6,
     "metadata": {},
     "output_type": "execute_result"
    }
   ],
   "source": [
    "df.SepsisLabel.value_counts()"
   ]
  },
  {
   "cell_type": "code",
   "execution_count": 7,
   "id": "2ad63c90",
   "metadata": {},
   "outputs": [],
   "source": [
    "X=df.drop('SepsisLabel',axis=1)\n",
    "y=df['SepsisLabel']"
   ]
  },
  {
   "cell_type": "code",
   "execution_count": 11,
   "id": "b03c0ff8",
   "metadata": {},
   "outputs": [],
   "source": [
    "X_train, X_test, y_train, y_test = train_test_split(X,y,test_size =0.2,stratify=y)"
   ]
  },
  {
   "cell_type": "code",
   "execution_count": 12,
   "id": "c947243c",
   "metadata": {},
   "outputs": [],
   "source": [
    "X_train_selected=X_train[['FiO2', 'O2Sat', 'Magnesium', 'SaO2', 'Lactate', 'pH', 'BaseExcess','Potassium',\n",
    "                          'Temp', 'Calcium', 'Phosphate', 'Creatinine', 'Chloride','HCO3', 'Resp', 'Hgb', 'Hct', 'BUN','SIRS']]\n",
    "X_test_selected=X_test[['FiO2', 'O2Sat', 'Magnesium', 'SaO2', 'Lactate', 'pH', 'BaseExcess','Potassium',\n",
    "                        'Temp', 'Calcium', 'Phosphate', 'Creatinine', 'Chloride','HCO3', 'Resp', 'Hgb', 'Hct', 'BUN','SIRS']]"
   ]
  },
  {
   "cell_type": "code",
   "execution_count": 13,
   "id": "55519a34",
   "metadata": {},
   "outputs": [
    {
     "data": {
      "text/plain": [
       "(0.0    25600\n",
       " 1.0    20000\n",
       " Name: SepsisLabel, dtype: int64,\n",
       " 0.0    6400\n",
       " 1.0    5000\n",
       " Name: SepsisLabel, dtype: int64)"
      ]
     },
     "execution_count": 13,
     "metadata": {},
     "output_type": "execute_result"
    }
   ],
   "source": [
    "y_train.value_counts(),y_test.value_counts()"
   ]
  },
  {
   "cell_type": "code",
   "execution_count": 15,
   "id": "b47a6f7d",
   "metadata": {},
   "outputs": [
    {
     "data": {
      "text/html": [
       "<div>\n",
       "<style scoped>\n",
       "    .dataframe tbody tr th:only-of-type {\n",
       "        vertical-align: middle;\n",
       "    }\n",
       "\n",
       "    .dataframe tbody tr th {\n",
       "        vertical-align: top;\n",
       "    }\n",
       "\n",
       "    .dataframe thead th {\n",
       "        text-align: right;\n",
       "    }\n",
       "</style>\n",
       "<table border=\"1\" class=\"dataframe\">\n",
       "  <thead>\n",
       "    <tr style=\"text-align: right;\">\n",
       "      <th></th>\n",
       "      <th>HR</th>\n",
       "      <th>O2Sat</th>\n",
       "      <th>Temp</th>\n",
       "      <th>SBP</th>\n",
       "      <th>MAP</th>\n",
       "      <th>DBP</th>\n",
       "      <th>Resp</th>\n",
       "      <th>BaseExcess</th>\n",
       "      <th>HCO3</th>\n",
       "      <th>FiO2</th>\n",
       "      <th>pH</th>\n",
       "      <th>PaCO2</th>\n",
       "      <th>SaO2</th>\n",
       "      <th>BUN</th>\n",
       "      <th>Calcium</th>\n",
       "      <th>Chloride</th>\n",
       "      <th>Creatinine</th>\n",
       "      <th>Glucose</th>\n",
       "      <th>Lactate</th>\n",
       "      <th>Magnesium</th>\n",
       "      <th>Phosphate</th>\n",
       "      <th>Potassium</th>\n",
       "      <th>Hct</th>\n",
       "      <th>Hgb</th>\n",
       "      <th>PTT</th>\n",
       "      <th>WBC</th>\n",
       "      <th>Platelets</th>\n",
       "      <th>Age</th>\n",
       "      <th>SIRS</th>\n",
       "    </tr>\n",
       "  </thead>\n",
       "  <tbody>\n",
       "    <tr>\n",
       "      <th>22320</th>\n",
       "      <td>101.892857</td>\n",
       "      <td>95.678571</td>\n",
       "      <td>37.127857</td>\n",
       "      <td>82.178571</td>\n",
       "      <td>51.547857</td>\n",
       "      <td>38.464643</td>\n",
       "      <td>25.642857</td>\n",
       "      <td>2.428571</td>\n",
       "      <td>26.857143</td>\n",
       "      <td>0.550000</td>\n",
       "      <td>7.376429</td>\n",
       "      <td>48.785714</td>\n",
       "      <td>90.357143</td>\n",
       "      <td>61.285714</td>\n",
       "      <td>8.507143</td>\n",
       "      <td>99.714286</td>\n",
       "      <td>2.435714</td>\n",
       "      <td>134.571429</td>\n",
       "      <td>2.664286</td>\n",
       "      <td>2.428571</td>\n",
       "      <td>4.400000</td>\n",
       "      <td>4.321429</td>\n",
       "      <td>29.785714</td>\n",
       "      <td>10.207143</td>\n",
       "      <td>32.914286</td>\n",
       "      <td>11.171429</td>\n",
       "      <td>216.642857</td>\n",
       "      <td>68.0</td>\n",
       "      <td>2.0</td>\n",
       "    </tr>\n",
       "    <tr>\n",
       "      <th>36459</th>\n",
       "      <td>107.306334</td>\n",
       "      <td>98.870889</td>\n",
       "      <td>37.892278</td>\n",
       "      <td>119.846833</td>\n",
       "      <td>83.411389</td>\n",
       "      <td>66.258222</td>\n",
       "      <td>16.564555</td>\n",
       "      <td>-2.258222</td>\n",
       "      <td>25.153167</td>\n",
       "      <td>0.471772</td>\n",
       "      <td>7.269431</td>\n",
       "      <td>54.363277</td>\n",
       "      <td>91.693666</td>\n",
       "      <td>10.846833</td>\n",
       "      <td>8.384683</td>\n",
       "      <td>110.435445</td>\n",
       "      <td>0.484683</td>\n",
       "      <td>124.153167</td>\n",
       "      <td>1.684683</td>\n",
       "      <td>2.000000</td>\n",
       "      <td>2.656456</td>\n",
       "      <td>4.056456</td>\n",
       "      <td>31.142022</td>\n",
       "      <td>10.841139</td>\n",
       "      <td>32.566078</td>\n",
       "      <td>11.503289</td>\n",
       "      <td>274.693666</td>\n",
       "      <td>45.0</td>\n",
       "      <td>1.0</td>\n",
       "    </tr>\n",
       "    <tr>\n",
       "      <th>51397</th>\n",
       "      <td>100.500000</td>\n",
       "      <td>100.000000</td>\n",
       "      <td>37.200000</td>\n",
       "      <td>89.500000</td>\n",
       "      <td>59.000000</td>\n",
       "      <td>41.000000</td>\n",
       "      <td>14.500000</td>\n",
       "      <td>-4.000000</td>\n",
       "      <td>19.000000</td>\n",
       "      <td>0.400000</td>\n",
       "      <td>7.410000</td>\n",
       "      <td>29.000000</td>\n",
       "      <td>98.000000</td>\n",
       "      <td>6.000000</td>\n",
       "      <td>7.800000</td>\n",
       "      <td>117.000000</td>\n",
       "      <td>0.700000</td>\n",
       "      <td>87.000000</td>\n",
       "      <td>1.400000</td>\n",
       "      <td>1.600000</td>\n",
       "      <td>2.300000</td>\n",
       "      <td>3.300000</td>\n",
       "      <td>31.700000</td>\n",
       "      <td>9.800000</td>\n",
       "      <td>37.300000</td>\n",
       "      <td>14.400000</td>\n",
       "      <td>266.000000</td>\n",
       "      <td>74.0</td>\n",
       "      <td>3.0</td>\n",
       "    </tr>\n",
       "    <tr>\n",
       "      <th>10110</th>\n",
       "      <td>93.166667</td>\n",
       "      <td>98.083333</td>\n",
       "      <td>36.898333</td>\n",
       "      <td>153.333333</td>\n",
       "      <td>104.500000</td>\n",
       "      <td>80.666667</td>\n",
       "      <td>17.333333</td>\n",
       "      <td>-4.833333</td>\n",
       "      <td>21.000000</td>\n",
       "      <td>0.533333</td>\n",
       "      <td>7.328333</td>\n",
       "      <td>37.000000</td>\n",
       "      <td>96.666667</td>\n",
       "      <td>57.000000</td>\n",
       "      <td>7.850000</td>\n",
       "      <td>101.833333</td>\n",
       "      <td>5.700000</td>\n",
       "      <td>257.000000</td>\n",
       "      <td>2.583333</td>\n",
       "      <td>1.916667</td>\n",
       "      <td>5.050000</td>\n",
       "      <td>4.566667</td>\n",
       "      <td>30.066667</td>\n",
       "      <td>10.000000</td>\n",
       "      <td>32.866667</td>\n",
       "      <td>13.366667</td>\n",
       "      <td>347.000000</td>\n",
       "      <td>31.0</td>\n",
       "      <td>2.0</td>\n",
       "    </tr>\n",
       "    <tr>\n",
       "      <th>4918</th>\n",
       "      <td>84.240000</td>\n",
       "      <td>96.220000</td>\n",
       "      <td>36.945200</td>\n",
       "      <td>133.680000</td>\n",
       "      <td>84.359600</td>\n",
       "      <td>60.479400</td>\n",
       "      <td>21.100000</td>\n",
       "      <td>1.720000</td>\n",
       "      <td>24.640000</td>\n",
       "      <td>0.548000</td>\n",
       "      <td>7.381200</td>\n",
       "      <td>46.820000</td>\n",
       "      <td>63.740000</td>\n",
       "      <td>16.520000</td>\n",
       "      <td>8.368000</td>\n",
       "      <td>106.000000</td>\n",
       "      <td>0.888000</td>\n",
       "      <td>79.280000</td>\n",
       "      <td>1.580000</td>\n",
       "      <td>2.000000</td>\n",
       "      <td>3.088000</td>\n",
       "      <td>4.052000</td>\n",
       "      <td>32.908000</td>\n",
       "      <td>11.236000</td>\n",
       "      <td>75.212000</td>\n",
       "      <td>11.628000</td>\n",
       "      <td>254.080000</td>\n",
       "      <td>77.0</td>\n",
       "      <td>1.0</td>\n",
       "    </tr>\n",
       "  </tbody>\n",
       "</table>\n",
       "</div>"
      ],
      "text/plain": [
       "               HR       O2Sat       Temp         SBP         MAP        DBP  \\\n",
       "22320  101.892857   95.678571  37.127857   82.178571   51.547857  38.464643   \n",
       "36459  107.306334   98.870889  37.892278  119.846833   83.411389  66.258222   \n",
       "51397  100.500000  100.000000  37.200000   89.500000   59.000000  41.000000   \n",
       "10110   93.166667   98.083333  36.898333  153.333333  104.500000  80.666667   \n",
       "4918    84.240000   96.220000  36.945200  133.680000   84.359600  60.479400   \n",
       "\n",
       "            Resp  BaseExcess       HCO3      FiO2        pH      PaCO2  \\\n",
       "22320  25.642857    2.428571  26.857143  0.550000  7.376429  48.785714   \n",
       "36459  16.564555   -2.258222  25.153167  0.471772  7.269431  54.363277   \n",
       "51397  14.500000   -4.000000  19.000000  0.400000  7.410000  29.000000   \n",
       "10110  17.333333   -4.833333  21.000000  0.533333  7.328333  37.000000   \n",
       "4918   21.100000    1.720000  24.640000  0.548000  7.381200  46.820000   \n",
       "\n",
       "            SaO2        BUN   Calcium    Chloride  Creatinine     Glucose  \\\n",
       "22320  90.357143  61.285714  8.507143   99.714286    2.435714  134.571429   \n",
       "36459  91.693666  10.846833  8.384683  110.435445    0.484683  124.153167   \n",
       "51397  98.000000   6.000000  7.800000  117.000000    0.700000   87.000000   \n",
       "10110  96.666667  57.000000  7.850000  101.833333    5.700000  257.000000   \n",
       "4918   63.740000  16.520000  8.368000  106.000000    0.888000   79.280000   \n",
       "\n",
       "        Lactate  Magnesium  Phosphate  Potassium        Hct        Hgb  \\\n",
       "22320  2.664286   2.428571   4.400000   4.321429  29.785714  10.207143   \n",
       "36459  1.684683   2.000000   2.656456   4.056456  31.142022  10.841139   \n",
       "51397  1.400000   1.600000   2.300000   3.300000  31.700000   9.800000   \n",
       "10110  2.583333   1.916667   5.050000   4.566667  30.066667  10.000000   \n",
       "4918   1.580000   2.000000   3.088000   4.052000  32.908000  11.236000   \n",
       "\n",
       "             PTT        WBC   Platelets   Age  SIRS  \n",
       "22320  32.914286  11.171429  216.642857  68.0   2.0  \n",
       "36459  32.566078  11.503289  274.693666  45.0   1.0  \n",
       "51397  37.300000  14.400000  266.000000  74.0   3.0  \n",
       "10110  32.866667  13.366667  347.000000  31.0   2.0  \n",
       "4918   75.212000  11.628000  254.080000  77.0   1.0  "
      ]
     },
     "execution_count": 15,
     "metadata": {},
     "output_type": "execute_result"
    }
   ],
   "source": [
    "pd.set_option('display.max_columns',None)\n",
    "X_test.head()"
   ]
  },
  {
   "cell_type": "code",
   "execution_count": 16,
   "id": "527bd61a",
   "metadata": {},
   "outputs": [
    {
     "data": {
      "text/plain": [
       "22320    0.0\n",
       "36459    1.0\n",
       "51397    1.0\n",
       "10110    0.0\n",
       "4918     0.0\n",
       "Name: SepsisLabel, dtype: float64"
      ]
     },
     "execution_count": 16,
     "metadata": {},
     "output_type": "execute_result"
    }
   ],
   "source": [
    "y_test.head()"
   ]
  },
  {
   "cell_type": "code",
   "execution_count": 17,
   "id": "4e6f2041",
   "metadata": {},
   "outputs": [],
   "source": [
    "minmax = pickle.load(open('minmax_for_autoencoder.pkl','rb'))\n",
    "X_train_selected_scaled=minmax.transform(X_train_selected)\n",
    "X_test_selected_scaled=minmax.transform(X_test_selected)"
   ]
  },
  {
   "cell_type": "code",
   "execution_count": 18,
   "id": "4fea7827",
   "metadata": {},
   "outputs": [
    {
     "data": {
      "text/plain": [
       "((45600, 19), (11400, 19))"
      ]
     },
     "execution_count": 18,
     "metadata": {},
     "output_type": "execute_result"
    }
   ],
   "source": [
    "X_train_selected_scaled.shape,X_test_selected_scaled.shape"
   ]
  },
  {
   "cell_type": "code",
   "execution_count": 20,
   "id": "d46c3ead",
   "metadata": {},
   "outputs": [
    {
     "data": {
      "text/plain": [
       "array([[0.55      , 0.86059908, 0.22744361, 0.8731203 , 0.08586361,\n",
       "        0.6520936 , 0.26082251, 0.31128748, 0.78926576, 0.29724702,\n",
       "        0.28378378, 0.10965795, 0.63284379, 0.51648352, 0.41285714,\n",
       "        0.26869607, 0.33307312, 0.22749326, 0.5       ],\n",
       "       [0.47177223, 0.96357707, 0.17105263, 0.89070614, 0.05173113,\n",
       "        0.55985393, 0.2253165 , 0.27857476, 0.83197082, 0.29086892,\n",
       "        0.16597673, 0.01806025, 0.73304154, 0.48371475, 0.23129111,\n",
       "        0.2899711 , 0.35777818, 0.03715786, 0.25      ],\n",
       "       [0.4       , 1.        , 0.11842105, 0.97368421, 0.04181185,\n",
       "        0.68103448, 0.21212121, 0.18518519, 0.79329609, 0.26041667,\n",
       "        0.14189189, 0.02816901, 0.79439252, 0.36538462, 0.19      ,\n",
       "        0.25503356, 0.36794171, 0.01886792, 0.75      ],\n",
       "       [0.53333333, 0.93817204, 0.16008772, 0.95614035, 0.08304297,\n",
       "        0.61063218, 0.20580808, 0.34156379, 0.7764432 , 0.26302083,\n",
       "        0.3277027 , 0.2629108 , 0.65264798, 0.40384615, 0.24666667,\n",
       "        0.26174497, 0.33819065, 0.21132075, 0.5       ],\n",
       "       [0.548     , 0.87806452, 0.17105263, 0.52289474, 0.04808362,\n",
       "        0.6562069 , 0.25545455, 0.27802469, 0.77906145, 0.29      ,\n",
       "        0.19513514, 0.03699531, 0.69158879, 0.47384615, 0.322     ,\n",
       "        0.30322148, 0.38994536, 0.05856604, 0.25      ]])"
      ]
     },
     "execution_count": 20,
     "metadata": {},
     "output_type": "execute_result"
    }
   ],
   "source": [
    "X_test_selected_scaled[:5]"
   ]
  },
  {
   "cell_type": "code",
   "execution_count": null,
   "id": "1102d177",
   "metadata": {},
   "outputs": [],
   "source": []
  },
  {
   "cell_type": "code",
   "execution_count": 14,
   "id": "35f3a1ca",
   "metadata": {},
   "outputs": [
    {
     "name": "stdout",
     "output_type": "stream",
     "text": [
      "Train shape for CNN:  (45600, 19, 1)\n",
      "Test shape for CNN:  (11400, 19, 1)\n"
     ]
    }
   ],
   "source": [
    "X_train_selected_scaled_cnn=X_train_selected_scaled.reshape(45600, 19,1)\n",
    "X_test_selected_scaled_cnn=X_test_selected_scaled.reshape(11400, 19,1)\n",
    "print(\"Train shape for CNN: \",X_train_selected_scaled_cnn.shape)\n",
    "print(\"Test shape for CNN: \",X_test_selected_scaled_cnn.shape)"
   ]
  },
  {
   "cell_type": "markdown",
   "id": "7c43362d",
   "metadata": {},
   "source": [
    "## AutoEncoder by CNN Encoder and CNN Decoder"
   ]
  },
  {
   "cell_type": "code",
   "execution_count": 15,
   "id": "94666dd2",
   "metadata": {
    "scrolled": false
   },
   "outputs": [
    {
     "name": "stdout",
     "output_type": "stream",
     "text": [
      "Model: \"model\"\n",
      "_________________________________________________________________\n",
      " Layer (type)                Output Shape              Param #   \n",
      "=================================================================\n",
      " input_1 (InputLayer)        [(None, 19, 1)]           0         \n",
      "                                                                 \n",
      " conv1d (Conv1D)             (None, 19, 64)            1280      \n",
      "                                                                 \n",
      " conv1d_1 (Conv1D)           (None, 19, 32)            38944     \n",
      "                                                                 \n",
      " conv1d_2 (Conv1D)           (None, 19, 16)            9744      \n",
      "                                                                 \n",
      " flatten (Flatten)           (None, 304)               0         \n",
      "                                                                 \n",
      " dense (Dense)               (None, 11)                3355      \n",
      "                                                                 \n",
      " reshape (Reshape)           (None, 11, 1)             0         \n",
      "                                                                 \n",
      " conv1d_3 (Conv1D)           (None, 11, 16)            192       \n",
      "                                                                 \n",
      " conv1d_4 (Conv1D)           (None, 11, 32)            5664      \n",
      "                                                                 \n",
      " conv1d_5 (Conv1D)           (None, 11, 64)            22592     \n",
      "                                                                 \n",
      " flatten_1 (Flatten)         (None, 704)               0         \n",
      "                                                                 \n",
      " dense_1 (Dense)             (None, 256)               180480    \n",
      "                                                                 \n",
      " dense_2 (Dense)             (None, 19)                4883      \n",
      "                                                                 \n",
      "=================================================================\n",
      "Total params: 267,134\n",
      "Trainable params: 267,134\n",
      "Non-trainable params: 0\n",
      "_________________________________________________________________\n",
      "None\n"
     ]
    }
   ],
   "source": [
    "input_dim = Input(shape = (19, 1))\n",
    "\n",
    "# cnn_enc=Sequential()\n",
    "cnn_enc = layers.Conv1D(64, 19, activation='relu', padding='same')(input_dim)\n",
    "cnn_enc = layers.Conv1D(32, 19, activation='relu', padding='same')(cnn_enc)\n",
    "cnn_enc = layers.Conv1D(16, 19, activation='relu', padding='same')(cnn_enc)\n",
    "cnn_enc = layers.Flatten()(cnn_enc)\n",
    "\n",
    "bottleneck = Dense(11, activation='sigmoid')(cnn_enc)\n",
    "\n",
    "reshp= Reshape((11,1))(bottleneck)\n",
    "\n",
    "cnn_dec=layers.Conv1D(16, 11, activation='relu',padding='same')(reshp)\n",
    "cnn_dec=layers.Conv1D(32, 11, activation='relu',padding='same')(cnn_dec)\n",
    "cnn_dec=layers.Conv1D(64, 11, activation='relu',padding='same')(cnn_dec)\n",
    "\n",
    "dec_flat=layers.Flatten()(cnn_dec)\n",
    "\n",
    "mlp=Dense(256,activation='relu')(dec_flat)\n",
    "mlp=Dense(19,activation='relu')(mlp)\n",
    "\n",
    "autoencoder_cnn_cnn = keras.Model(input_dim, mlp)\n",
    "\n",
    "print(autoencoder_cnn_cnn.summary())\n",
    "\n",
    "###### Imp Model"
   ]
  },
  {
   "cell_type": "markdown",
   "id": "7da723b8",
   "metadata": {},
   "source": [
    "### GRAD Cam"
   ]
  },
  {
   "cell_type": "code",
   "execution_count": null,
   "id": "6f75978b",
   "metadata": {},
   "outputs": [],
   "source": []
  },
  {
   "cell_type": "code",
   "execution_count": 16,
   "id": "33566e26",
   "metadata": {},
   "outputs": [],
   "source": [
    "def grad_cam(layer_name, data, autoenc, classifa, C_mod=True):\n",
    "    model1=autoenc\n",
    "    if C_mod==True:\n",
    "        model1==classifa\n",
    "        \n",
    "    grad_model = tf.keras.models.Model([autoenc.inputs], [model1.get_layer(layer_name).output,\n",
    "                                                          classifa.output])\n",
    "    weights_list=model.get_weights()\n",
    "    grad_model.set_weights(weights_list[0:10])\n",
    "    last_conv_layer_output, preds = grad_model(data)\n",
    "\n",
    "    with tf.GradientTape() as tape:\n",
    "        last_conv_layer_output, preds = grad_model(data)\n",
    "        pred_index = tf.argmax(preds[0])\n",
    "        class_channel = preds[:, pred_index]\n",
    "\n",
    "    grads = tape.gradient(class_channel, last_conv_layer_output)\n",
    "\n",
    "    pooled_grads = tf.reduce_mean(grads, axis=(0))\n",
    "\n",
    "    last_conv_layer_output = last_conv_layer_output[0]\n",
    "\n",
    "    heatmap = last_conv_layer_output * pooled_grads\n",
    "    heatmap = tf.reduce_mean(heatmap, axis=(1))\n",
    "    heatmap = np.expand_dims(heatmap,0)\n",
    "    return grad_model, heatmap\n"
   ]
  },
  {
   "cell_type": "code",
   "execution_count": 17,
   "id": "219cf171",
   "metadata": {},
   "outputs": [],
   "source": [
    "# data"
   ]
  },
  {
   "cell_type": "code",
   "execution_count": null,
   "id": "478f9dba",
   "metadata": {},
   "outputs": [],
   "source": [
    "layer_name = \"<last conv layer name>\"\n",
    "for i in X_test:\n",
    "    data = np.expand_dims(i,0)\n",
    "    heatmap = grad_cam(layer_name,data)\n",
    "\n",
    "    plt.figure(figsize=(30,4))\n",
    "    plt.imshow(np.expand_dims(heatmap,axis=2),cmap='Reds', aspect=\"auto\", interpolation='nearest',extent=[0,300,i.min(),i.max()], alpha=0.5)\n",
    "    plt.plot(i,'k')\n",
    "    plt.colorbar()\n",
    "    plt.show()"
   ]
  },
  {
   "cell_type": "code",
   "execution_count": null,
   "id": "9a5c7877",
   "metadata": {},
   "outputs": [],
   "source": []
  },
  {
   "cell_type": "code",
   "execution_count": null,
   "id": "49c47eb3",
   "metadata": {},
   "outputs": [],
   "source": []
  },
  {
   "cell_type": "code",
   "execution_count": 18,
   "id": "35e567e0",
   "metadata": {},
   "outputs": [
    {
     "ename": "NameError",
     "evalue": "name 'grad_model' is not defined",
     "output_type": "error",
     "traceback": [
      "\u001b[1;31m---------------------------------------------------------------------------\u001b[0m",
      "\u001b[1;31mNameError\u001b[0m                                 Traceback (most recent call last)",
      "Cell \u001b[1;32mIn [18], line 2\u001b[0m\n\u001b[0;32m      1\u001b[0m \u001b[38;5;28;01mwith\u001b[39;00m tf\u001b[38;5;241m.\u001b[39mGradientTape() \u001b[38;5;28;01mas\u001b[39;00m tape:\n\u001b[1;32m----> 2\u001b[0m     last_conv_layer_output, preds \u001b[38;5;241m=\u001b[39m \u001b[43mgrad_model\u001b[49m(data)\n\u001b[0;32m      3\u001b[0m     pred_index \u001b[38;5;241m=\u001b[39m tf\u001b[38;5;241m.\u001b[39margmax(preds[\u001b[38;5;241m0\u001b[39m])\n\u001b[0;32m      4\u001b[0m     class_channel \u001b[38;5;241m=\u001b[39m preds[:, pred_index]\n",
      "\u001b[1;31mNameError\u001b[0m: name 'grad_model' is not defined"
     ]
    }
   ],
   "source": [
    "with tf.GradientTape() as tape:\n",
    "    last_conv_layer_output, preds = grad_model(data)\n",
    "    pred_index = tf.argmax(preds[0])\n",
    "    class_channel = preds[:, pred_index]\n",
    "\n",
    "grads = tape.gradient(class_channel, last_conv_layer_output)\n",
    "\n",
    "pooled_grads = tf.reduce_mean(grads, axis=(0))\n",
    "\n",
    "last_conv_layer_output = last_conv_layer_output[0]\n",
    "\n",
    "heatmap = last_conv_layer_output * pooled_grads\n",
    "# heatmap = tf.reduce_mean(heatmap, axis=(1))\n",
    "# heatmap = np.expand_dims(heatmap,0)"
   ]
  },
  {
   "cell_type": "code",
   "execution_count": null,
   "id": "34e444c9",
   "metadata": {},
   "outputs": [],
   "source": [
    "class_channel"
   ]
  },
  {
   "cell_type": "code",
   "execution_count": null,
   "id": "09bfbb42",
   "metadata": {},
   "outputs": [],
   "source": [
    "last_conv_layer_output.shape"
   ]
  },
  {
   "cell_type": "code",
   "execution_count": null,
   "id": "5c5ff062",
   "metadata": {},
   "outputs": [],
   "source": [
    "heatmap.shape"
   ]
  },
  {
   "cell_type": "code",
   "execution_count": null,
   "id": "bb5d7586",
   "metadata": {},
   "outputs": [],
   "source": [
    "grads.shape"
   ]
  },
  {
   "cell_type": "code",
   "execution_count": null,
   "id": "88fe9779",
   "metadata": {},
   "outputs": [],
   "source": [
    "last_conv_layer_output, preds = grad_model(data)"
   ]
  },
  {
   "cell_type": "code",
   "execution_count": null,
   "id": "f48b1eba",
   "metadata": {},
   "outputs": [],
   "source": [
    "last_conv_layer_output.shape"
   ]
  },
  {
   "cell_type": "code",
   "execution_count": null,
   "id": "34c638d1",
   "metadata": {},
   "outputs": [],
   "source": [
    "preds.shape"
   ]
  },
  {
   "cell_type": "code",
   "execution_count": null,
   "id": "521b0128",
   "metadata": {},
   "outputs": [],
   "source": [
    "heatmap"
   ]
  },
  {
   "cell_type": "code",
   "execution_count": null,
   "id": "f4083d16",
   "metadata": {},
   "outputs": [],
   "source": []
  },
  {
   "cell_type": "code",
   "execution_count": null,
   "id": "023d04a7",
   "metadata": {},
   "outputs": [],
   "source": [
    "layer_name = \"conv1d\"\n",
    "overall_heatmap_for_training=[]\n",
    "for i in X_train_selected_scaled_cnn:\n",
    "    data = np.expand_dims(i,0)\n",
    "    heatmap = grad_cam('conv1d_1','dense',data,autoencoder_cnn_cnn2)\n",
    "    overall_heatmap_for_training.append(heatmap)\n",
    "#     plt.figure(figsize=(30,4))\n",
    "#     plt.imshow(np.expand_dims(heatmap,axis=2),cmap='Reds', aspect=\"auto\", interpolation='nearest', alpha=0.7)\n",
    "# #         plt.plot(i,'k')\n",
    "#     plt.colorbar()\n",
    "#     plt.show()\n",
    "#     print(heatmap)\n",
    "#     print(heatmap.shape)\n"
   ]
  },
  {
   "cell_type": "code",
   "execution_count": null,
   "id": "0f52a6c0",
   "metadata": {},
   "outputs": [],
   "source": [
    "autoencoder_cnn_cnn.compile(optimizer='adam', loss='mse',metrics=['accuracy','mae','MeanSquaredError'])"
   ]
  },
  {
   "cell_type": "code",
   "execution_count": null,
   "id": "04db937d",
   "metadata": {
    "scrolled": true
   },
   "outputs": [],
   "source": [
    "# autoencoder_cnn_cnn.fit(X_train_selected_scaled_cnn,X_train_selected_scaled,epochs=100,validation_split=0.2,verbose=2)"
   ]
  },
  {
   "cell_type": "code",
   "execution_count": null,
   "id": "3785f15d",
   "metadata": {},
   "outputs": [],
   "source": [
    "# autoencoder_cnn_cnn.history.history.keys()"
   ]
  },
  {
   "cell_type": "code",
   "execution_count": null,
   "id": "a209b1ea",
   "metadata": {},
   "outputs": [],
   "source": [
    "# plt.plot(autoencoder_cnn_cnn.history.history['accuracy'])\n",
    "# plt.plot(autoencoder_cnn_cnn.history.history['val_accuracy'])\n",
    "# plt.title('model accuracy')\n",
    "# plt.ylabel('accuracy')\n",
    "# plt.xlabel('epoch')\n",
    "# plt.legend(['train', 'val'], loc='lower right')\n",
    "# plt.show()"
   ]
  },
  {
   "cell_type": "code",
   "execution_count": null,
   "id": "15a39985",
   "metadata": {},
   "outputs": [],
   "source": [
    "autoencoder_cnn_cnn.summary()"
   ]
  },
  {
   "cell_type": "code",
   "execution_count": null,
   "id": "5dd6e2ea",
   "metadata": {},
   "outputs": [],
   "source": []
  },
  {
   "cell_type": "code",
   "execution_count": null,
   "id": "7b286fa0",
   "metadata": {},
   "outputs": [],
   "source": []
  },
  {
   "cell_type": "code",
   "execution_count": null,
   "id": "84fff838",
   "metadata": {},
   "outputs": [],
   "source": [
    "# plt.plot(autoencoder_cnn_cnn.history.history['loss'])\n",
    "# plt.plot(autoencoder_cnn_cnn.history.history['val_loss'])\n",
    "# plt.title('model loss')\n",
    "# plt.ylabel('Loss')\n",
    "# plt.xlabel('epoch')\n",
    "# plt.legend(['train', 'val'], loc='lower right')\n",
    "# plt.show()"
   ]
  },
  {
   "cell_type": "code",
   "execution_count": null,
   "id": "82009f4e",
   "metadata": {},
   "outputs": [],
   "source": []
  },
  {
   "cell_type": "code",
   "execution_count": null,
   "id": "bcd46831",
   "metadata": {},
   "outputs": [],
   "source": []
  },
  {
   "cell_type": "code",
   "execution_count": null,
   "id": "a431954b",
   "metadata": {},
   "outputs": [],
   "source": [
    "# intermediate_layer_model = Model(inputs=autoencoder_cnn_cnn.input, outputs=autoencoder_cnn_cnn.get_layer(index=5).output)\n",
    "# X_train_autoencoder_cnn_cnn_11_1 = intermediate_layer_model.predict(X_train_selected_scaled_cnn)\n",
    "# X_test_autoencoder_cnn_cnn_11_1 = intermediate_layer_model.predict(X_test_selected_scaled_cnn)\n",
    "# print(\"Shape of train: \",X_train_autoencoder_cnn_cnn_11_1.shape)\n",
    "# print(\"Shape of train: \",X_test_autoencoder_cnn_cnn_11_1.shape)"
   ]
  },
  {
   "cell_type": "code",
   "execution_count": null,
   "id": "b3717498",
   "metadata": {
    "scrolled": true
   },
   "outputs": [],
   "source": [
    "ann_cnn_cnn1 = keras.Sequential([\n",
    "    keras.layers.Dense(128, input_shape=(11,), activation='relu'),\n",
    "    keras.layers.Dense(256, activation='relu'),\n",
    "    keras.layers.Dense(64, activation='relu'),\n",
    "    keras.layers.Dense(1, activation='sigmoid')\n",
    "])\n",
    "\n",
    "ann_cnn_cnn1.compile(optimizer=tf.keras.optimizers.Adam(learning_rate=0.0001),\n",
    "              loss='binary_crossentropy',\n",
    "              metrics=['accuracy',tf.keras.metrics.Precision(),tf.keras.metrics.Recall()])\n",
    "\n",
    "ann_cnn_cnn1.fit(X_train_autoencoder_cnn_cnn_11_1, y_train, epochs=60,validation_split=0.25)\n",
    "\n",
    "pred=ann_cnn_cnn1.predict(X_test_autoencoder_cnn_cnn_11_1)\n",
    "pred1=[]\n",
    "for j in pred:\n",
    "    if j[0]>=0.5:\n",
    "        pred1.append(1)\n",
    "    else:\n",
    "        pred1.append(0)\n",
    "        \n",
    "print(confusion_matrix(y_test,pred1))\n",
    "print(classification_report(y_test,pred1))"
   ]
  },
  {
   "cell_type": "code",
   "execution_count": null,
   "id": "aa692351",
   "metadata": {},
   "outputs": [],
   "source": [
    "[[5835  565]\n",
    " [ 284 4716]]"
   ]
  },
  {
   "cell_type": "code",
   "execution_count": null,
   "id": "3dbd35f1",
   "metadata": {},
   "outputs": [],
   "source": []
  },
  {
   "cell_type": "code",
   "execution_count": null,
   "id": "37186501",
   "metadata": {},
   "outputs": [],
   "source": [
    "### New archietecture of the previous model"
   ]
  },
  {
   "cell_type": "code",
   "execution_count": null,
   "id": "1aeaa33d",
   "metadata": {},
   "outputs": [],
   "source": [
    "input_dim = Input(shape = (19, 1))\n",
    "\n",
    "# cnn_enc=Sequential()\n",
    "cnn_enc = layers.Conv1D(64, 19, activation='relu', padding='same')(input_dim)\n",
    "cnn_enc = layers.Conv1D(32, 19, activation='relu', padding='same')(cnn_enc)\n",
    "cnn_enc = layers.Conv1D(16, 19, activation='relu', padding='same')(cnn_enc)\n",
    "cnn_enc = layers.Conv1D(8, 19, activation='relu', padding='same')(cnn_enc)\n",
    "cnn_enc = layers.Flatten()(cnn_enc)\n",
    "\n",
    "bottleneck = Dense(11, activation='sigmoid')(cnn_enc)\n",
    "\n",
    "reshp= Reshape((11,1))(bottleneck)\n",
    "\n",
    "cnn_dec=layers.Conv1D(8, 11, activation='relu',padding='same')(reshp)\n",
    "cnn_dec=layers.Conv1D(16, 11, activation='relu',padding='same')(cnn_dec)\n",
    "cnn_dec=layers.Conv1D(32, 11, activation='relu',padding='same')(cnn_dec)\n",
    "cnn_dec=layers.Conv1D(64, 11, activation='relu',padding='same')(cnn_dec)\n",
    "\n",
    "dec_flat=layers.Flatten()(cnn_dec)\n",
    "\n",
    "# mlp=Dense(256,activation='relu')(dec_flat)\n",
    "mlp=Dense(19,activation='relu')(dec_flat)\n",
    "\n",
    "autoencoder_cnn_cnn1 = keras.Model(input_dim, mlp)\n",
    "\n",
    "print(autoencoder_cnn_cnn1.summary())\n"
   ]
  },
  {
   "cell_type": "code",
   "execution_count": null,
   "id": "b57a8f03",
   "metadata": {},
   "outputs": [],
   "source": []
  },
  {
   "cell_type": "code",
   "execution_count": null,
   "id": "605c5d41",
   "metadata": {},
   "outputs": [],
   "source": [
    "autoencoder_cnn_cnn1.compile(optimizer='adam', loss='mse',metrics=['accuracy','mae','MeanSquaredError'])"
   ]
  },
  {
   "cell_type": "code",
   "execution_count": null,
   "id": "4126921d",
   "metadata": {
    "scrolled": true
   },
   "outputs": [],
   "source": [
    "autoencoder_cnn_cnn1.fit(X_train_selected_scaled_cnn,X_train_selected_scaled,epochs=100,validation_split=0.2,verbose=2)"
   ]
  },
  {
   "cell_type": "code",
   "execution_count": null,
   "id": "03b90f86",
   "metadata": {},
   "outputs": [],
   "source": [
    "plt.plot(autoencoder_cnn_cnn1.history.history['accuracy'])\n",
    "plt.plot(autoencoder_cnn_cnn1.history.history['val_accuracy'])\n",
    "plt.title('model accuracy')\n",
    "plt.ylabel('accuracy')\n",
    "plt.xlabel('epoch')\n",
    "plt.legend(['train', 'val'], loc='lower right')\n",
    "plt.show()"
   ]
  },
  {
   "cell_type": "code",
   "execution_count": null,
   "id": "27bd8f45",
   "metadata": {},
   "outputs": [],
   "source": [
    "plt.plot(autoencoder_cnn_cnn1.history.history['loss'])\n",
    "plt.plot(autoencoder_cnn_cnn1.history.history['val_loss'])\n",
    "plt.title('model accuracy')\n",
    "plt.ylabel('Loss')\n",
    "plt.xlabel('epoch')\n",
    "plt.legend(['train', 'val'], loc='upper right')\n",
    "plt.show()"
   ]
  },
  {
   "cell_type": "code",
   "execution_count": null,
   "id": "201b20fe",
   "metadata": {},
   "outputs": [],
   "source": [
    "intermediate_layer_model1 = Model(inputs=autoencoder_cnn_cnn1.input, outputs=autoencoder_cnn_cnn1.get_layer(index=6).output)\n",
    "X_train_autoencoder_cnn_cnn_11_2 = intermediate_layer_model1.predict(X_train_selected_scaled_cnn)\n",
    "X_test_autoencoder_cnn_cnn_11_2 = intermediate_layer_model1.predict(X_test_selected_scaled_cnn)\n",
    "print(\"Shape of train: \",X_train_autoencoder_cnn_cnn_11_2.shape)\n",
    "print(\"Shape of train: \",X_test_autoencoder_cnn_cnn_11_2.shape)"
   ]
  },
  {
   "cell_type": "code",
   "execution_count": null,
   "id": "f3e370be",
   "metadata": {
    "scrolled": true
   },
   "outputs": [],
   "source": [
    "ann_cnn_cnn1 = keras.Sequential([\n",
    "    keras.layers.Dense(128, input_shape=(11,), activation='relu'),\n",
    "    keras.layers.Dense(256, activation='relu'),\n",
    "    keras.layers.Dense(64, activation='relu'),\n",
    "    keras.layers.Dense(1, activation='sigmoid')\n",
    "])\n",
    "\n",
    "ann_cnn_cnn1.compile(optimizer=tf.keras.optimizers.Adam(learning_rate=0.0001),\n",
    "              loss='binary_crossentropy',\n",
    "              metrics=['accuracy',tf.keras.metrics.Precision(),tf.keras.metrics.Recall()])\n",
    "\n",
    "ann_cnn_cnn1.fit(X_train_autoencoder_cnn_cnn_11_2, y_train, epochs=60,validation_split=0.25)\n",
    "\n",
    "pred1=ann_cnn_cnn1.predict(X_test_autoencoder_cnn_cnn_11_2)\n",
    "pred2=[]\n",
    "for j in pred1:\n",
    "    if j[0]>=0.5:\n",
    "        pred2.append(1)\n",
    "    else:\n",
    "        pred2.append(0)\n",
    "        \n",
    "print(confusion_matrix(y_test,pred2))\n",
    "print(classification_report(y_test,pred2))"
   ]
  },
  {
   "cell_type": "markdown",
   "id": "f1c4beb7",
   "metadata": {},
   "source": [
    "# Main model"
   ]
  },
  {
   "cell_type": "code",
   "execution_count": null,
   "id": "96b77d9b",
   "metadata": {},
   "outputs": [],
   "source": [
    "#### Since there is not such significant difference in the last model after removing one dense layer we are sticking with the \n",
    "# first model only and using other loss functions to see the change\n",
    "\n",
    "### As we are shrinking the layers before and after bottleneck slight misclassification taking place that is lowering the recall\n",
    "\n",
    "# Another Architecture"
   ]
  },
  {
   "cell_type": "code",
   "execution_count": 19,
   "id": "e0f25ee0",
   "metadata": {},
   "outputs": [
    {
     "name": "stdout",
     "output_type": "stream",
     "text": [
      "Model: \"model_1\"\n",
      "_________________________________________________________________\n",
      " Layer (type)                Output Shape              Param #   \n",
      "=================================================================\n",
      " input_2 (InputLayer)        [(None, 19, 1)]           0         \n",
      "                                                                 \n",
      " conv1d_6 (Conv1D)           (None, 19, 128)           2560      \n",
      "                                                                 \n",
      " conv1d_7 (Conv1D)           (None, 19, 64)            155712    \n",
      "                                                                 \n",
      " conv1d_8 (Conv1D)           (None, 19, 32)            38944     \n",
      "                                                                 \n",
      " conv1d_9 (Conv1D)           (None, 19, 16)            9744      \n",
      "                                                                 \n",
      " flatten_2 (Flatten)         (None, 304)               0         \n",
      "                                                                 \n",
      " dense_3 (Dense)             (None, 11)                3355      \n",
      "                                                                 \n",
      " reshape_1 (Reshape)         (None, 11, 1)             0         \n",
      "                                                                 \n",
      " conv1d_10 (Conv1D)          (None, 11, 16)            192       \n",
      "                                                                 \n",
      " conv1d_11 (Conv1D)          (None, 11, 32)            5664      \n",
      "                                                                 \n",
      " conv1d_12 (Conv1D)          (None, 11, 64)            22592     \n",
      "                                                                 \n",
      " conv1d_13 (Conv1D)          (None, 11, 128)           90240     \n",
      "                                                                 \n",
      " flatten_3 (Flatten)         (None, 1408)              0         \n",
      "                                                                 \n",
      " dense_4 (Dense)             (None, 19)                26771     \n",
      "                                                                 \n",
      "=================================================================\n",
      "Total params: 355,774\n",
      "Trainable params: 355,774\n",
      "Non-trainable params: 0\n",
      "_________________________________________________________________\n",
      "None\n"
     ]
    }
   ],
   "source": [
    "input_dim = Input(shape = (19, 1))\n",
    "\n",
    "# cnn_enc=Sequential()\n",
    "cnn_enc = layers.Conv1D(128, 19, activation='relu', padding='same')(input_dim)\n",
    "cnn_enc = layers.Conv1D(64, 19, activation='relu', padding='same')(cnn_enc)\n",
    "cnn_enc = layers.Conv1D(32, 19, activation='relu', padding='same')(cnn_enc)\n",
    "cnn_enc = layers.Conv1D(16, 19, activation='relu', padding='same')(cnn_enc)\n",
    "cnn_enc = layers.Flatten()(cnn_enc)\n",
    "\n",
    "bottleneck = Dense(11, activation='sigmoid')(cnn_enc)\n",
    "\n",
    "reshp= Reshape((11,1))(bottleneck)\n",
    "\n",
    "cnn_dec=layers.Conv1D(16, 11, activation='relu',padding='same')(reshp)\n",
    "cnn_dec=layers.Conv1D(32, 11, activation='relu',padding='same')(cnn_dec)\n",
    "cnn_dec=layers.Conv1D(64, 11, activation='relu',padding='same')(cnn_dec)\n",
    "cnn_dec=layers.Conv1D(128, 11, activation='relu',padding='same')(cnn_dec)\n",
    "\n",
    "dec_flat=layers.Flatten()(cnn_dec)\n",
    "\n",
    "# mlp=Dense(256,activation='relu')(dec_flat)\n",
    "mlp=Dense(19,activation='relu')(dec_flat)\n",
    "\n",
    "autoencoder_cnn_cnn2 = keras.Model(input_dim, mlp)\n",
    "\n",
    "print(autoencoder_cnn_cnn2.summary())"
   ]
  },
  {
   "cell_type": "code",
   "execution_count": null,
   "id": "21b3edc8",
   "metadata": {},
   "outputs": [],
   "source": [
    "autoencoder_cnn_cnn2.compile(optimizer='adam', loss='mse',metrics=['accuracy','mae','MeanSquaredError'])"
   ]
  },
  {
   "cell_type": "code",
   "execution_count": null,
   "id": "3a2af897",
   "metadata": {
    "scrolled": true
   },
   "outputs": [],
   "source": [
    "autoencoder_cnn_cnn2.fit(X_train_selected_scaled_cnn,X_train_selected_scaled,epochs=100,validation_split=0.2,verbose=2)"
   ]
  },
  {
   "cell_type": "code",
   "execution_count": 22,
   "id": "22c395f7",
   "metadata": {},
   "outputs": [],
   "source": [
    "import os"
   ]
  },
  {
   "cell_type": "code",
   "execution_count": 23,
   "id": "2435d8ae",
   "metadata": {},
   "outputs": [],
   "source": [
    "checkpoint_path = \"training_1/cp.ckpt\"\n",
    "checkpoint_dir = os.path.dirname(checkpoint_path)\n",
    "\n",
    "# # Create a callback that saves the model's weights\n",
    "# cp_callback = tf.keras.callbacks.ModelCheckpoint(filepath=checkpoint_path,\n",
    "#                                                  save_weights_only=True,\n",
    "#                                                  verbose=1)\n",
    "\n",
    "# # Train the model with the new callback\n",
    "# autoencoder_cnn_cnn2.fit(X_train_selected_scaled_cnn, X_train_selected_scaled, epochs=1,validation_split=0.2, verbose=2, \n",
    "#           callbacks=[cp_callback])  # Pass callback to training"
   ]
  },
  {
   "cell_type": "code",
   "execution_count": 24,
   "id": "46b97b71",
   "metadata": {},
   "outputs": [
    {
     "data": {
      "text/plain": [
       "<tensorflow.python.checkpoint.checkpoint.CheckpointLoadStatus at 0x205e7dfce20>"
      ]
     },
     "execution_count": 24,
     "metadata": {},
     "output_type": "execute_result"
    }
   ],
   "source": [
    "autoencoder_cnn_cnn2.load_weights(checkpoint_path)"
   ]
  },
  {
   "cell_type": "code",
   "execution_count": null,
   "id": "28b61b1f",
   "metadata": {},
   "outputs": [],
   "source": [
    "for layer in autoencoder_cnn_cnn2.layers:\n",
    "    print(layer.name)"
   ]
  },
  {
   "cell_type": "code",
   "execution_count": null,
   "id": "90fed855",
   "metadata": {},
   "outputs": [],
   "source": [
    "# Keep the trainable layers only\n",
    "layer_names=['conv1d_6', 'conv1d_7', 'conv1d_8', 'conv1d_9']"
   ]
  },
  {
   "cell_type": "code",
   "execution_count": null,
   "id": "ba8f5902",
   "metadata": {},
   "outputs": [],
   "source": [
    "layer_with_heatmap_dict={}\n",
    "for layer in layer_names:\n",
    "    overall_heatmap_for_training=[]\n",
    "    for i in X_train_selected_scaled_cnn:\n",
    "        data = np.expand_dims(i,0)\n",
    "        heatmap = grad_cam(layer,'dense',data,autoencoder_cnn_cnn2)\n",
    "        overall_heatmap_for_training.append(heatmap)\n",
    "    layer_with_heatmap_dict[layer]=overall_heatmap_for_training\n",
    "    print(\"heatmaps stored for \",layer)"
   ]
  },
  {
   "cell_type": "code",
   "execution_count": null,
   "id": "7698a9e7",
   "metadata": {},
   "outputs": [],
   "source": [
    "np.array(layer_with_heatmap_dict[\"conv1d_3\"]).reshape(45600,19).shape"
   ]
  },
  {
   "cell_type": "code",
   "execution_count": null,
   "id": "701c48c2",
   "metadata": {},
   "outputs": [],
   "source": [
    "for key,value in layer_with_heatmap_dict.items():\n",
    "    heatmap=np.array(layer_with_heatmap_dict[key]).reshape(45600,19)\n",
    "    heatmap=np.average(heatmap,axis=0).reshape(1,19)\n",
    "    print(\"for \",key,\" heatmap shape \",heatmap.shape)\n",
    "    plt.figure(figsize=(10,2))\n",
    "    plt.imshow(np.expand_dims(heatmap,axis=2),cmap='Reds', aspect=\"auto\", interpolation='nearest', alpha=0.7)\n",
    "#         plt.plot(i,'k')\n",
    "    plt.colorbar()\n",
    "    plt.show()"
   ]
  },
  {
   "cell_type": "code",
   "execution_count": null,
   "id": "9cd108cb",
   "metadata": {},
   "outputs": [],
   "source": [
    "lst=[]\n",
    "for key,value in layer_with_heatmap_dict.items():\n",
    "    heatmap=np.array(layer_with_heatmap_dict[key]).reshape(45600,19)\n",
    "    heatmap=np.average(heatmap,axis=0).reshape(1,19)\n",
    "    lst.append(heatmap[0])\n",
    "    print(\"for \",key,\" heatmap shape \",heatmap)"
   ]
  },
  {
   "cell_type": "code",
   "execution_count": null,
   "id": "2db73190",
   "metadata": {},
   "outputs": [],
   "source": [
    "heatmap=pd.DataFrame(lst).T\n",
    "heatmap.columns=['EB1','EB2','EB3','EB4']\n",
    "heatmap.index=['FiO2', 'O2Sat', 'Magnesium', 'SaO2', 'Lactate', 'pH', 'BaseExcess','Potassium',\n",
    "                          'Temp', 'Calcium', 'Phosphate', 'Creatinine', 'Chloride','HCO3', 'Resp', 'Hgb', 'Hct', 'BUN','SIRS']\n",
    "heatmap"
   ]
  },
  {
   "cell_type": "code",
   "execution_count": null,
   "id": "31e68cb4",
   "metadata": {},
   "outputs": [],
   "source": [
    "# determining the name of the file\n",
    "file_name = 'Explain_autoencoder.xlsx'\n",
    "  \n",
    "# saving the excel\n",
    "heatmap.to_excel(file_name)\n",
    "print('DataFrame is written to Excel File successfully.')"
   ]
  },
  {
   "cell_type": "code",
   "execution_count": null,
   "id": "59e34714",
   "metadata": {},
   "outputs": [],
   "source": []
  },
  {
   "cell_type": "code",
   "execution_count": null,
   "id": "05d7166f",
   "metadata": {},
   "outputs": [],
   "source": []
  },
  {
   "cell_type": "code",
   "execution_count": 25,
   "id": "338d0854",
   "metadata": {},
   "outputs": [
    {
     "name": "stdout",
     "output_type": "stream",
     "text": [
      "1425/1425 [==============================] - 4s 3ms/step\n",
      "357/357 [==============================] - 1s 3ms/step\n",
      "Shape of train:  (45600, 11)\n",
      "Shape of train:  (11400, 11)\n"
     ]
    }
   ],
   "source": [
    "intermediate_layer_model11 = Model(inputs=autoencoder_cnn_cnn2.input, outputs=autoencoder_cnn_cnn2.get_layer(index=6).output)\n",
    "X_train_autoencoder_cnn_cnn_11_12 = intermediate_layer_model11.predict(X_train_selected_scaled_cnn)\n",
    "X_test_autoencoder_cnn_cnn_11_12 = intermediate_layer_model11.predict(X_test_selected_scaled_cnn)\n",
    "print(\"Shape of train: \",X_train_autoencoder_cnn_cnn_11_12.shape)\n",
    "print(\"Shape of train: \",X_test_autoencoder_cnn_cnn_11_12.shape)"
   ]
  },
  {
   "cell_type": "code",
   "execution_count": null,
   "id": "0523c8d2",
   "metadata": {},
   "outputs": [],
   "source": [
    "# KNN\n",
    "knn=KNeighborsClassifier()\n",
    "knn.fit(X_train_autoencoder_cnn_cnn_11_12,y_train)\n",
    "pred=knn.predict(X_test_autoencoder_cnn_cnn_11_12)\n",
    "print(\"Accuray: \",accuracy_score(y_test,pred))\n",
    "print(\"Precision: \",precision_score(y_test,pred))\n",
    "print(\"Recall: \",recall_score(y_test,pred))\n",
    "print(\"F1 Score: \",f1_score(y_test,pred))"
   ]
  },
  {
   "cell_type": "code",
   "execution_count": 26,
   "id": "fa16b84d",
   "metadata": {
    "scrolled": true
   },
   "outputs": [],
   "source": [
    "ann_cnn_cnn2 = tf.keras.Sequential([\n",
    "    tf.keras.layers.Dense(128, input_shape=(11,), activation='relu'),\n",
    "    tf.keras.layers.Dense(256, activation='relu'),\n",
    "    tf.keras.layers.Dense(64, activation='relu'),\n",
    "    tf.keras.layers.Dense(1, activation='sigmoid')\n",
    "])\n",
    "\n",
    "ann_cnn_cnn2.compile(optimizer=tf.keras.optimizers.Adam(learning_rate=0.0001),\n",
    "              loss=\"binary_crossentropy\",\n",
    "              metrics=['accuracy',tf.keras.metrics.Precision(),tf.keras.metrics.Recall()])\n",
    "\n",
    "# ann_cnn_cnn2.fit(X_train_autoencoder_cnn_cnn_11_12, y_train, epochs=60,validation_split=0.25)\n",
    "\n",
    "# pred2=ann_cnn_cnn2.predict(X_test_autoencoder_cnn_cnn_11_12)\n",
    "# pred3=[]\n",
    "# for j in pred2:\n",
    "#     if j[0]>=0.5:\n",
    "#         pred3.append(1)\n",
    "#     else:\n",
    "#         pred3.append(0)\n",
    "        \n",
    "# print(confusion_matrix(y_test,pred3))\n",
    "# print(classification_report(y_test,pred3))"
   ]
  },
  {
   "cell_type": "code",
   "execution_count": null,
   "id": "d6262ffb",
   "metadata": {},
   "outputs": [],
   "source": [
    "ann_cnn_cnn2.summary()"
   ]
  },
  {
   "cell_type": "code",
   "execution_count": 27,
   "id": "3cf05e46",
   "metadata": {},
   "outputs": [],
   "source": [
    "checkpoint_path = \"training_1_classifier/cp.ckpt\"\n",
    "checkpoint_dir = os.path.dirname(checkpoint_path)\n",
    "\n",
    "# Create a callback that saves the model's weights\n",
    "cp_callback = tf.keras.callbacks.ModelCheckpoint(filepath=checkpoint_path,\n",
    "                                                 save_weights_only=True,\n",
    "                                                 verbose=1)\n",
    "\n",
    "# Train the model with the new callback\n",
    "# ann_cnn_cnn2.fit(X_train_autoencoder_cnn_cnn_11_12, y_train, epochs=1,validation_split=0.2, verbose=2, \n",
    "#           callbacks=[cp_callback])  # Pass callback to training"
   ]
  },
  {
   "cell_type": "code",
   "execution_count": 28,
   "id": "77b74639",
   "metadata": {},
   "outputs": [
    {
     "data": {
      "text/plain": [
       "<tensorflow.python.checkpoint.checkpoint.CheckpointLoadStatus at 0x205db3d44f0>"
      ]
     },
     "execution_count": 28,
     "metadata": {},
     "output_type": "execute_result"
    }
   ],
   "source": [
    "ann_cnn_cnn2.load_weights(checkpoint_path)"
   ]
  },
  {
   "cell_type": "code",
   "execution_count": null,
   "id": "8d6931b6",
   "metadata": {
    "scrolled": true
   },
   "outputs": [],
   "source": [
    "\n",
    "\n",
    "# ann_cnn_cnn2 = keras.Sequential([\n",
    "#     keras.layers.Dense(128, input_shape=(11,), activation='relu'),\n",
    "#     keras.layers.Dense(256, activation='relu'),\n",
    "#     keras.layers.Dense(64, activation='relu'),\n",
    "#     keras.layers.Dense(1, activation='sigmoid')\n",
    "# ])\n",
    "\n",
    "# ann_cnn_cnn2.compile(optimizer=tf.keras.optimizers.Adam(learning_rate=0.0001),\n",
    "#               loss=\"binary_crossentropy\",\n",
    "#               metrics=['accuracy',tf.keras.metrics.Precision(),tf.keras.metrics.Recall()])\n",
    "\n",
    "# ann_cnn_cnn2.fit(X_train_autoencoder_cnn_cnn_11_12, y_train, epochs=60,validation_split=0.25)\n",
    "\n",
    "# pred2=ann_cnn_cnn2.predict(X_test_autoencoder_cnn_cnn_11_12)\n",
    "# pred3=[]\n",
    "# for j in pred2:\n",
    "#     if j[0]>=0.5:\n",
    "#         pred3.append(1)\n",
    "#     else:\n",
    "#         pred3.append(0)\n",
    "        \n",
    "# print(confusion_matrix(y_test,pred3))\n",
    "# print(classification_report(y_test,pred3))"
   ]
  },
  {
   "cell_type": "markdown",
   "id": "d8f3b065",
   "metadata": {},
   "source": [
    "#### SHAP FOR EXPLAINABILTY OF ANN"
   ]
  },
  {
   "cell_type": "code",
   "execution_count": 34,
   "id": "18a0a8ce",
   "metadata": {},
   "outputs": [
    {
     "ename": "ModuleNotFoundError",
     "evalue": "No module named 'tensorflow.tensorflow'",
     "output_type": "error",
     "traceback": [
      "\u001b[1;31m---------------------------------------------------------------------------\u001b[0m",
      "\u001b[1;31mModuleNotFoundError\u001b[0m                       Traceback (most recent call last)",
      "Cell \u001b[1;32mIn [34], line 1\u001b[0m\n\u001b[1;32m----> 1\u001b[0m \u001b[38;5;28;01mimport\u001b[39;00m \u001b[38;5;21;01mtensorflow\u001b[39;00m\u001b[38;5;21;01m.\u001b[39;00m\u001b[38;5;21;01mtensorflow\u001b[39;00m \u001b[38;5;28;01mas\u001b[39;00m \u001b[38;5;21;01mtf\u001b[39;00m\n",
      "\u001b[1;31mModuleNotFoundError\u001b[0m: No module named 'tensorflow.tensorflow'"
     ]
    }
   ],
   "source": [
    "import tensorflow.tensorflow as tf"
   ]
  },
  {
   "cell_type": "code",
   "execution_count": 30,
   "id": "09a105b4",
   "metadata": {},
   "outputs": [],
   "source": [
    "import tensorflow.keras as keras "
   ]
  },
  {
   "cell_type": "code",
   "execution_count": 31,
   "id": "2abf3b27",
   "metadata": {},
   "outputs": [
    {
     "name": "stderr",
     "output_type": "stream",
     "text": [
      "`tf.keras.backend.set_learning_phase` is deprecated and will be removed after 2020-10-11. To update it, simply pass a True/False value to the `training` argument of the `__call__` method of your layer or model.\n"
     ]
    }
   ],
   "source": [
    "tf.keras.backend.set_learning_phase(True)"
   ]
  },
  {
   "cell_type": "code",
   "execution_count": 32,
   "id": "0bd7099b",
   "metadata": {},
   "outputs": [
    {
     "name": "stderr",
     "output_type": "stream",
     "text": [
      "keras is no longer supported, please use tf.keras instead.\n",
      "Your TensorFlow version is newer than 2.4.0 and so graph support has been removed in eager mode. See PR #1483 for discussion.\n",
      "You have provided over 5k background samples! For better performance consider using smaller random sample.\n"
     ]
    }
   ],
   "source": [
    "explainer=shap.DeepExplainer(ann_cnn_cnn2, X_train_autoencoder_cnn_cnn_11_12)"
   ]
  },
  {
   "cell_type": "code",
   "execution_count": 35,
   "id": "0fec570c",
   "metadata": {},
   "outputs": [
    {
     "data": {
      "text/plain": [
       "(45600, 11)"
      ]
     },
     "execution_count": 35,
     "metadata": {},
     "output_type": "execute_result"
    }
   ],
   "source": [
    "X_train_autoencoder_cnn_cnn_11_12.shape"
   ]
  },
  {
   "cell_type": "code",
   "execution_count": 36,
   "id": "41d201bd",
   "metadata": {},
   "outputs": [],
   "source": [
    "pd.DataFrame(X_train_autoencoder_cnn_cnn_11_12).to_csv('X_train_autoencoder_cnn_cnn_11_12',index=False)"
   ]
  },
  {
   "cell_type": "code",
   "execution_count": 38,
   "id": "93f6c642",
   "metadata": {},
   "outputs": [],
   "source": [
    "pd.DataFrame(X_test_autoencoder_cnn_cnn_11_12).to_csv('X_test_autoencoder_cnn_cnn_11_12',index=False)\n",
    "pd.DataFrame(y_train).to_csv('y_train',index=False)\n",
    "pd.DataFrame(y_test).to_csv('y_test',index=False)"
   ]
  },
  {
   "cell_type": "code",
   "execution_count": 33,
   "id": "c89f1533",
   "metadata": {},
   "outputs": [
    {
     "ename": "AttributeError",
     "evalue": "in user code:\n\n    File \"C:\\Users\\Admin\\anaconda3\\envs\\env2\\lib\\site-packages\\shap\\explainers\\_deep\\deep_tf.py\", line 243, in grad_graph  *\n        out = self.model(shap_rAnD)\n    File \"C:\\Users\\Admin\\anaconda3\\envs\\env2\\lib\\site-packages\\keras\\utils\\traceback_utils.py\", line 70, in error_handler  **\n        raise e.with_traceback(filtered_tb) from None\n    File \"C:\\Users\\Admin\\anaconda3\\envs\\env2\\lib\\site-packages\\shap\\explainers\\_deep\\deep_tf.py\", line 26, in custom_record_gradient\n        out = tf_backprop._record_gradient(\"shap_\"+op_name, inputs, attrs, results)\n\n    AttributeError: Exception encountered when calling layer \"dense_5\" \"                 f\"(type Dense).\n    \n    module 'tensorflow.python.eager.backprop' has no attribute '_record_gradient'\n    \n    Call arguments received by layer \"dense_5\" \"                 f\"(type Dense):\n      • inputs=tf.Tensor(shape=(91200, 11), dtype=float32)\n",
     "output_type": "error",
     "traceback": [
      "\u001b[1;31m---------------------------------------------------------------------------\u001b[0m",
      "\u001b[1;31mAttributeError\u001b[0m                            Traceback (most recent call last)",
      "Cell \u001b[1;32mIn [33], line 1\u001b[0m\n\u001b[1;32m----> 1\u001b[0m shap_values_features\u001b[38;5;241m=\u001b[39m\u001b[43mexplainer\u001b[49m\u001b[38;5;241;43m.\u001b[39;49m\u001b[43mshap_values\u001b[49m\u001b[43m(\u001b[49m\u001b[43mX_train_autoencoder_cnn_cnn_11_12\u001b[49m\u001b[43m)\u001b[49m\n",
      "File \u001b[1;32m~\\anaconda3\\envs\\env2\\lib\\site-packages\\shap\\explainers\\_deep\\__init__.py:124\u001b[0m, in \u001b[0;36mDeep.shap_values\u001b[1;34m(self, X, ranked_outputs, output_rank_order, check_additivity)\u001b[0m\n\u001b[0;32m     90\u001b[0m \u001b[38;5;28;01mdef\u001b[39;00m \u001b[38;5;21mshap_values\u001b[39m(\u001b[38;5;28mself\u001b[39m, X, ranked_outputs\u001b[38;5;241m=\u001b[39m\u001b[38;5;28;01mNone\u001b[39;00m, output_rank_order\u001b[38;5;241m=\u001b[39m\u001b[38;5;124m'\u001b[39m\u001b[38;5;124mmax\u001b[39m\u001b[38;5;124m'\u001b[39m, check_additivity\u001b[38;5;241m=\u001b[39m\u001b[38;5;28;01mTrue\u001b[39;00m):\n\u001b[0;32m     91\u001b[0m     \u001b[38;5;124;03m\"\"\" Return approximate SHAP values for the model applied to the data given by X.\u001b[39;00m\n\u001b[0;32m     92\u001b[0m \n\u001b[0;32m     93\u001b[0m \u001b[38;5;124;03m    Parameters\u001b[39;00m\n\u001b[1;32m   (...)\u001b[0m\n\u001b[0;32m    122\u001b[0m \u001b[38;5;124;03m        were chosen as \"top\".\u001b[39;00m\n\u001b[0;32m    123\u001b[0m \u001b[38;5;124;03m    \"\"\"\u001b[39;00m\n\u001b[1;32m--> 124\u001b[0m     \u001b[38;5;28;01mreturn\u001b[39;00m \u001b[38;5;28;43mself\u001b[39;49m\u001b[38;5;241;43m.\u001b[39;49m\u001b[43mexplainer\u001b[49m\u001b[38;5;241;43m.\u001b[39;49m\u001b[43mshap_values\u001b[49m\u001b[43m(\u001b[49m\u001b[43mX\u001b[49m\u001b[43m,\u001b[49m\u001b[43m \u001b[49m\u001b[43mranked_outputs\u001b[49m\u001b[43m,\u001b[49m\u001b[43m \u001b[49m\u001b[43moutput_rank_order\u001b[49m\u001b[43m,\u001b[49m\u001b[43m \u001b[49m\u001b[43mcheck_additivity\u001b[49m\u001b[38;5;241;43m=\u001b[39;49m\u001b[43mcheck_additivity\u001b[49m\u001b[43m)\u001b[49m\n",
      "File \u001b[1;32m~\\anaconda3\\envs\\env2\\lib\\site-packages\\shap\\explainers\\_deep\\deep_tf.py:308\u001b[0m, in \u001b[0;36mTFDeep.shap_values\u001b[1;34m(self, X, ranked_outputs, output_rank_order, check_additivity)\u001b[0m\n\u001b[0;32m    306\u001b[0m \u001b[38;5;66;03m# run attribution computation graph\u001b[39;00m\n\u001b[0;32m    307\u001b[0m feature_ind \u001b[38;5;241m=\u001b[39m model_output_ranks[j,i]\n\u001b[1;32m--> 308\u001b[0m sample_phis \u001b[38;5;241m=\u001b[39m \u001b[38;5;28;43mself\u001b[39;49m\u001b[38;5;241;43m.\u001b[39;49m\u001b[43mrun\u001b[49m\u001b[43m(\u001b[49m\u001b[38;5;28;43mself\u001b[39;49m\u001b[38;5;241;43m.\u001b[39;49m\u001b[43mphi_symbolic\u001b[49m\u001b[43m(\u001b[49m\u001b[43mfeature_ind\u001b[49m\u001b[43m)\u001b[49m\u001b[43m,\u001b[49m\u001b[43m \u001b[49m\u001b[38;5;28;43mself\u001b[39;49m\u001b[38;5;241;43m.\u001b[39;49m\u001b[43mmodel_inputs\u001b[49m\u001b[43m,\u001b[49m\u001b[43m \u001b[49m\u001b[43mjoint_input\u001b[49m\u001b[43m)\u001b[49m\n\u001b[0;32m    310\u001b[0m \u001b[38;5;66;03m# assign the attributions to the right part of the output arrays\u001b[39;00m\n\u001b[0;32m    311\u001b[0m \u001b[38;5;28;01mfor\u001b[39;00m l \u001b[38;5;129;01min\u001b[39;00m \u001b[38;5;28mrange\u001b[39m(\u001b[38;5;28mlen\u001b[39m(X)):\n",
      "File \u001b[1;32m~\\anaconda3\\envs\\env2\\lib\\site-packages\\shap\\explainers\\_deep\\deep_tf.py:365\u001b[0m, in \u001b[0;36mTFDeep.run\u001b[1;34m(self, out, model_inputs, X)\u001b[0m\n\u001b[0;32m    362\u001b[0m     tf_execute\u001b[38;5;241m.\u001b[39mrecord_gradient \u001b[38;5;241m=\u001b[39m tf_backprop\u001b[38;5;241m.\u001b[39m_record_gradient\n\u001b[0;32m    364\u001b[0m     \u001b[38;5;28;01mreturn\u001b[39;00m final_out\n\u001b[1;32m--> 365\u001b[0m \u001b[38;5;28;01mreturn\u001b[39;00m \u001b[38;5;28;43mself\u001b[39;49m\u001b[38;5;241;43m.\u001b[39;49m\u001b[43mexecute_with_overridden_gradients\u001b[49m\u001b[43m(\u001b[49m\u001b[43manon\u001b[49m\u001b[43m)\u001b[49m\n",
      "File \u001b[1;32m~\\anaconda3\\envs\\env2\\lib\\site-packages\\shap\\explainers\\_deep\\deep_tf.py:401\u001b[0m, in \u001b[0;36mTFDeep.execute_with_overridden_gradients\u001b[1;34m(self, f)\u001b[0m\n\u001b[0;32m    399\u001b[0m \u001b[38;5;66;03m# define the computation graph for the attribution values using a custom gradient-like computation\u001b[39;00m\n\u001b[0;32m    400\u001b[0m \u001b[38;5;28;01mtry\u001b[39;00m:\n\u001b[1;32m--> 401\u001b[0m     out \u001b[38;5;241m=\u001b[39m \u001b[43mf\u001b[49m\u001b[43m(\u001b[49m\u001b[43m)\u001b[49m\n\u001b[0;32m    402\u001b[0m \u001b[38;5;28;01mfinally\u001b[39;00m:\n\u001b[0;32m    403\u001b[0m     \u001b[38;5;66;03m# reinstate the backpropagatable check\u001b[39;00m\n\u001b[0;32m    404\u001b[0m     \u001b[38;5;28;01mif\u001b[39;00m \u001b[38;5;28mhasattr\u001b[39m(tf_gradients_impl, \u001b[38;5;124m\"\u001b[39m\u001b[38;5;124m_IsBackpropagatable\u001b[39m\u001b[38;5;124m\"\u001b[39m):\n",
      "File \u001b[1;32m~\\anaconda3\\envs\\env2\\lib\\site-packages\\shap\\explainers\\_deep\\deep_tf.py:361\u001b[0m, in \u001b[0;36mTFDeep.run.<locals>.anon\u001b[1;34m()\u001b[0m\n\u001b[0;32m    359\u001b[0m     v \u001b[38;5;241m=\u001b[39m tf\u001b[38;5;241m.\u001b[39mconstant(data, dtype\u001b[38;5;241m=\u001b[39m\u001b[38;5;28mself\u001b[39m\u001b[38;5;241m.\u001b[39mmodel_inputs[i]\u001b[38;5;241m.\u001b[39mdtype)\n\u001b[0;32m    360\u001b[0m     inputs\u001b[38;5;241m.\u001b[39mappend(v)\n\u001b[1;32m--> 361\u001b[0m final_out \u001b[38;5;241m=\u001b[39m \u001b[43mout\u001b[49m\u001b[43m(\u001b[49m\u001b[43minputs\u001b[49m\u001b[43m)\u001b[49m\n\u001b[0;32m    362\u001b[0m tf_execute\u001b[38;5;241m.\u001b[39mrecord_gradient \u001b[38;5;241m=\u001b[39m tf_backprop\u001b[38;5;241m.\u001b[39m_record_gradient\n\u001b[0;32m    364\u001b[0m \u001b[38;5;28;01mreturn\u001b[39;00m final_out\n",
      "File \u001b[1;32m~\\anaconda3\\envs\\env2\\lib\\site-packages\\tensorflow\\python\\util\\traceback_utils.py:153\u001b[0m, in \u001b[0;36mfilter_traceback.<locals>.error_handler\u001b[1;34m(*args, **kwargs)\u001b[0m\n\u001b[0;32m    151\u001b[0m \u001b[38;5;28;01mexcept\u001b[39;00m \u001b[38;5;167;01mException\u001b[39;00m \u001b[38;5;28;01mas\u001b[39;00m e:\n\u001b[0;32m    152\u001b[0m   filtered_tb \u001b[38;5;241m=\u001b[39m _process_traceback_frames(e\u001b[38;5;241m.\u001b[39m__traceback__)\n\u001b[1;32m--> 153\u001b[0m   \u001b[38;5;28;01mraise\u001b[39;00m e\u001b[38;5;241m.\u001b[39mwith_traceback(filtered_tb) \u001b[38;5;28;01mfrom\u001b[39;00m \u001b[38;5;28mNone\u001b[39m\n\u001b[0;32m    154\u001b[0m \u001b[38;5;28;01mfinally\u001b[39;00m:\n\u001b[0;32m    155\u001b[0m   \u001b[38;5;28;01mdel\u001b[39;00m filtered_tb\n",
      "File \u001b[1;32m~\\AppData\\Local\\Temp\\__autograph_generated_file5uy82ab8.py:16\u001b[0m, in \u001b[0;36mouter_factory.<locals>.inner_factory.<locals>.tf__grad_graph\u001b[1;34m(shap_rAnD)\u001b[0m\n\u001b[0;32m     14\u001b[0m \u001b[38;5;28;01mwith\u001b[39;00m ag__\u001b[38;5;241m.\u001b[39mld(tf)\u001b[38;5;241m.\u001b[39mGradientTape(watch_accessed_variables\u001b[38;5;241m=\u001b[39m\u001b[38;5;28;01mFalse\u001b[39;00m) \u001b[38;5;28;01mas\u001b[39;00m tape:\n\u001b[0;32m     15\u001b[0m     ag__\u001b[38;5;241m.\u001b[39mconverted_call(ag__\u001b[38;5;241m.\u001b[39mld(tape)\u001b[38;5;241m.\u001b[39mwatch, (ag__\u001b[38;5;241m.\u001b[39mld(shap_rAnD),), \u001b[38;5;28;01mNone\u001b[39;00m, fscope)\n\u001b[1;32m---> 16\u001b[0m     out \u001b[38;5;241m=\u001b[39m ag__\u001b[38;5;241m.\u001b[39mconverted_call(ag__\u001b[38;5;241m.\u001b[39mld(\u001b[38;5;28mself\u001b[39m)\u001b[38;5;241m.\u001b[39mmodel, (ag__\u001b[38;5;241m.\u001b[39mld(shap_rAnD),), \u001b[38;5;28;01mNone\u001b[39;00m, fscope)\n\u001b[0;32m     18\u001b[0m     \u001b[38;5;28;01mdef\u001b[39;00m \u001b[38;5;21mget_state\u001b[39m():\n\u001b[0;32m     19\u001b[0m         \u001b[38;5;28;01mreturn\u001b[39;00m (out,)\n",
      "File \u001b[1;32m~\\anaconda3\\envs\\env2\\lib\\site-packages\\keras\\utils\\traceback_utils.py:70\u001b[0m, in \u001b[0;36mfilter_traceback.<locals>.error_handler\u001b[1;34m(*args, **kwargs)\u001b[0m\n\u001b[0;32m     67\u001b[0m     filtered_tb \u001b[38;5;241m=\u001b[39m _process_traceback_frames(e\u001b[38;5;241m.\u001b[39m__traceback__)\n\u001b[0;32m     68\u001b[0m     \u001b[38;5;66;03m# To get the full stack trace, call:\u001b[39;00m\n\u001b[0;32m     69\u001b[0m     \u001b[38;5;66;03m# `tf.debugging.disable_traceback_filtering()`\u001b[39;00m\n\u001b[1;32m---> 70\u001b[0m     \u001b[38;5;28;01mraise\u001b[39;00m e\u001b[38;5;241m.\u001b[39mwith_traceback(filtered_tb) \u001b[38;5;28;01mfrom\u001b[39;00m \u001b[38;5;28mNone\u001b[39m\n\u001b[0;32m     71\u001b[0m \u001b[38;5;28;01mfinally\u001b[39;00m:\n\u001b[0;32m     72\u001b[0m     \u001b[38;5;28;01mdel\u001b[39;00m filtered_tb\n",
      "File \u001b[1;32m~\\anaconda3\\envs\\env2\\lib\\site-packages\\shap\\explainers\\_deep\\deep_tf.py:26\u001b[0m, in \u001b[0;36mcustom_record_gradient\u001b[1;34m(op_name, inputs, attrs, results)\u001b[0m\n\u001b[0;32m     24\u001b[0m     inputs[\u001b[38;5;241m1\u001b[39m]\u001b[38;5;241m.\u001b[39m\u001b[38;5;18m__dict__\u001b[39m[\u001b[38;5;124m\"\u001b[39m\u001b[38;5;124m_dtype\u001b[39m\u001b[38;5;124m\"\u001b[39m] \u001b[38;5;241m=\u001b[39m tf\u001b[38;5;241m.\u001b[39mfloat32\n\u001b[0;32m     25\u001b[0m     reset_input \u001b[38;5;241m=\u001b[39m \u001b[38;5;28;01mTrue\u001b[39;00m\n\u001b[1;32m---> 26\u001b[0m out \u001b[38;5;241m=\u001b[39m \u001b[43mtf_backprop\u001b[49m\u001b[38;5;241;43m.\u001b[39;49m\u001b[43m_record_gradient\u001b[49m(\u001b[38;5;124m\"\u001b[39m\u001b[38;5;124mshap_\u001b[39m\u001b[38;5;124m\"\u001b[39m\u001b[38;5;241m+\u001b[39mop_name, inputs, attrs, results)\n\u001b[0;32m     28\u001b[0m \u001b[38;5;28;01mif\u001b[39;00m reset_input:\n\u001b[0;32m     29\u001b[0m     inputs[\u001b[38;5;241m1\u001b[39m]\u001b[38;5;241m.\u001b[39m\u001b[38;5;18m__dict__\u001b[39m[\u001b[38;5;124m\"\u001b[39m\u001b[38;5;124m_dtype\u001b[39m\u001b[38;5;124m\"\u001b[39m] \u001b[38;5;241m=\u001b[39m tf\u001b[38;5;241m.\u001b[39mint32\n",
      "\u001b[1;31mAttributeError\u001b[0m: in user code:\n\n    File \"C:\\Users\\Admin\\anaconda3\\envs\\env2\\lib\\site-packages\\shap\\explainers\\_deep\\deep_tf.py\", line 243, in grad_graph  *\n        out = self.model(shap_rAnD)\n    File \"C:\\Users\\Admin\\anaconda3\\envs\\env2\\lib\\site-packages\\keras\\utils\\traceback_utils.py\", line 70, in error_handler  **\n        raise e.with_traceback(filtered_tb) from None\n    File \"C:\\Users\\Admin\\anaconda3\\envs\\env2\\lib\\site-packages\\shap\\explainers\\_deep\\deep_tf.py\", line 26, in custom_record_gradient\n        out = tf_backprop._record_gradient(\"shap_\"+op_name, inputs, attrs, results)\n\n    AttributeError: Exception encountered when calling layer \"dense_5\" \"                 f\"(type Dense).\n    \n    module 'tensorflow.python.eager.backprop' has no attribute '_record_gradient'\n    \n    Call arguments received by layer \"dense_5\" \"                 f\"(type Dense):\n      • inputs=tf.Tensor(shape=(91200, 11), dtype=float32)\n"
     ]
    }
   ],
   "source": [
    "shap_values_features=explainer.shap_values(X_train_autoencoder_cnn_cnn_11_12)"
   ]
  },
  {
   "cell_type": "code",
   "execution_count": null,
   "id": "ba6561ff",
   "metadata": {},
   "outputs": [],
   "source": [
    "tf.__version__"
   ]
  },
  {
   "cell_type": "code",
   "execution_count": null,
   "id": "888f2c4a",
   "metadata": {},
   "outputs": [],
   "source": [
    "X"
   ]
  },
  {
   "cell_type": "code",
   "execution_count": null,
   "id": "ccbd1185",
   "metadata": {},
   "outputs": [],
   "source": []
  },
  {
   "cell_type": "code",
   "execution_count": null,
   "id": "b757b2fc",
   "metadata": {},
   "outputs": [],
   "source": []
  },
  {
   "cell_type": "markdown",
   "id": "f4149def",
   "metadata": {},
   "source": [
    "### Crossvalidation of the final classifier"
   ]
  },
  {
   "cell_type": "code",
   "execution_count": null,
   "id": "1d9d3acc",
   "metadata": {},
   "outputs": [],
   "source": [
    "X_cv=np.concatenate([X_train_autoencoder_cnn_cnn_11_12,X_test_autoencoder_cnn_cnn_11_12])"
   ]
  },
  {
   "cell_type": "code",
   "execution_count": null,
   "id": "7e6e7254",
   "metadata": {},
   "outputs": [],
   "source": [
    "X_train_autoencoder_cnn_cnn_11_12.shape,X_test_autoencoder_cnn_cnn_11_12.shape"
   ]
  },
  {
   "cell_type": "code",
   "execution_count": null,
   "id": "e9c2bf19",
   "metadata": {},
   "outputs": [],
   "source": [
    "y_cv=np.concatenate([y_train.values,y_test.values])\n",
    "y_cv.shape"
   ]
  },
  {
   "cell_type": "code",
   "execution_count": null,
   "id": "59af6882",
   "metadata": {},
   "outputs": [],
   "source": []
  },
  {
   "cell_type": "code",
   "execution_count": null,
   "id": "7c6c135f",
   "metadata": {},
   "outputs": [],
   "source": []
  },
  {
   "cell_type": "code",
   "execution_count": null,
   "id": "0125ee38",
   "metadata": {
    "scrolled": true
   },
   "outputs": [],
   "source": [
    "kf = KFold(n_splits=5, shuffle=True)\n",
    "ann_cv = keras.Sequential([\n",
    "    keras.layers.Dense(128, input_shape=(11,), activation='relu'),\n",
    "    keras.layers.Dense(256, activation='relu'),\n",
    "    keras.layers.Dense(64, activation='relu'),\n",
    "    keras.layers.Dense(1, activation='sigmoid')\n",
    "])\n",
    "\n",
    "ann_cv.compile(optimizer=tf.keras.optimizers.Adam(learning_rate=0.0001),\n",
    "              loss=\"binary_crossentropy\",\n",
    "              metrics=['accuracy',tf.keras.metrics.Precision(),tf.keras.metrics.Recall()])\n",
    "  \n",
    "for i1,(train_index , test_index) in enumerate(kf.split(X_cv)):\n",
    "    print(f\"Fold {i1+1}\")\n",
    "    X_train1 , X_test1 = X_cv[train_index,:],X_cv[test_index,:]\n",
    "    y_train1 , y_test1 = y_cv[train_index] , y_cv[test_index]\n",
    "     \n",
    "    ann_cv.fit(X_train1,y_train1, epochs=60,validation_split=0.20)\n",
    "    pred_values = ann_cv.predict(X_test1)\n",
    "    cv_pred=[]\n",
    "    for a in pred_values:\n",
    "        if a[0]>=0.5:\n",
    "            cv_pred.append(1)\n",
    "        else:\n",
    "            cv_pred.append(0)\n",
    "        \n",
    "    print(\"Accuracy: \",accuracy_score(cv_pred , y_test1))\n",
    "    print(classification_report(cv_pred,y_test1))\n",
    "    print(confusion_matrix(cv_pred,y_test1))\n",
    "    print(\"#################################\")"
   ]
  },
  {
   "cell_type": "code",
   "execution_count": null,
   "id": "7499a31e",
   "metadata": {},
   "outputs": [],
   "source": [
    "fold1:1\n",
    "    acc=0.93\n",
    "    prec=0.92\n",
    "    recall=0.91\n",
    "    f1=0.92\n",
    "fold:2\n",
    "    acc=0.93\n",
    "    prec=0.92\n",
    "    recall=0.92\n",
    "    f1=0.92\n",
    "fold:3\n",
    "    acc=0.93\n",
    "    prec=0.95\n",
    "    recall=0.91\n",
    "    f1=0.93\n",
    "fold:4\n",
    "    acc=94\n",
    "    prec=0.94\n",
    "    recall=0.93\n",
    "    f1=0.93\n",
    "fold:5\n",
    "    acc=95\n",
    "    prec=0.94\n",
    "    recall=0.94\n",
    "    f1=0.94\n",
    "    "
   ]
  },
  {
   "cell_type": "code",
   "execution_count": null,
   "id": "2160e321",
   "metadata": {},
   "outputs": [],
   "source": []
  },
  {
   "cell_type": "code",
   "execution_count": null,
   "id": "c68568a5",
   "metadata": {},
   "outputs": [],
   "source": []
  },
  {
   "cell_type": "code",
   "execution_count": null,
   "id": "3a16afa9",
   "metadata": {},
   "outputs": [],
   "source": []
  },
  {
   "cell_type": "code",
   "execution_count": null,
   "id": "83ca08fd",
   "metadata": {},
   "outputs": [],
   "source": []
  },
  {
   "cell_type": "markdown",
   "id": "76105e88",
   "metadata": {},
   "source": [
    "#### showing the variation of the classifier w.r.t the bottleneck size"
   ]
  },
  {
   "cell_type": "code",
   "execution_count": null,
   "id": "574cf8e5",
   "metadata": {
    "scrolled": true
   },
   "outputs": [],
   "source": [
    "input_dim = Input(shape = (19, 1))\n",
    "\n",
    "for i in range(1,16):\n",
    "    cnn_enc = layers.Conv1D(128, 19, activation='relu', padding='same')(input_dim)\n",
    "    cnn_enc = layers.Conv1D(64, 19, activation='relu', padding='same')(cnn_enc)\n",
    "    cnn_enc = layers.Conv1D(32, 19, activation='relu', padding='same')(cnn_enc)\n",
    "    cnn_enc = layers.Conv1D(16, 19, activation='relu', padding='same')(cnn_enc)\n",
    "    cnn_enc = layers.Flatten()(cnn_enc)\n",
    "\n",
    "    bottleneck = Dense(i, activation='sigmoid')(cnn_enc)\n",
    "\n",
    "    reshp= Reshape((i,1))(bottleneck)\n",
    "\n",
    "    cnn_dec=layers.Conv1D(16, i, activation='relu',padding='same')(reshp)\n",
    "    cnn_dec=layers.Conv1D(32, i, activation='relu',padding='same')(cnn_dec)\n",
    "    cnn_dec=layers.Conv1D(64, i, activation='relu',padding='same')(cnn_dec)\n",
    "    cnn_dec=layers.Conv1D(128, i, activation='relu',padding='same')(cnn_dec)\n",
    "\n",
    "    dec_flat=layers.Flatten()(cnn_dec)\n",
    "\n",
    "    # mlp=Dense(256,activation='relu')(dec_flat)\n",
    "    mlp=Dense(19,activation='relu')(dec_flat)\n",
    "\n",
    "    var_autoenc = keras.Model(input_dim, mlp)\n",
    "    \n",
    "    var_autoenc.compile(optimizer='adam', loss='mse',metrics=['accuracy','mae','MeanSquaredError'])\n",
    "    var_autoenc.fit(X_train_selected_scaled_cnn,X_train_selected_scaled,epochs=100,validation_split=0.2,verbose=2)\n",
    "    intermediate = Model(inputs=var_autoenc.input, outputs=var_autoenc.get_layer(index=6).output)\n",
    "    X_train_vary = intermediate.predict(X_train_selected_scaled_cnn)\n",
    "    X_test_vary = intermediate.predict(X_test_selected_scaled_cnn)\n",
    "    print(\"#####################\")\n",
    "    print(\"Shape of train: \",X_train_vary.shape)\n",
    "    print(\"Shape of train: \",X_test_vary.shape)\n",
    "    \n",
    "    ann_vary = keras.Sequential([\n",
    "    keras.layers.Dense(128, input_shape=(i,), activation='relu'),\n",
    "    keras.layers.Dense(256, activation='relu'),\n",
    "    keras.layers.Dense(64, activation='relu'),\n",
    "    keras.layers.Dense(1, activation='sigmoid')\n",
    "    ])\n",
    "\n",
    "    ann_vary.compile(optimizer=tf.keras.optimizers.Adam(learning_rate=0.0001),\n",
    "                  loss=\"binary_crossentropy\",\n",
    "                  metrics=['accuracy',tf.keras.metrics.Precision(),tf.keras.metrics.Recall()])\n",
    "\n",
    "    ann_vary.fit(X_train_vary, y_train, epochs=60,validation_split=0.25)\n",
    "\n",
    "    p=ann_vary.predict(X_test_vary)\n",
    "    p1=[]\n",
    "    for j in p:\n",
    "        if j[0]>=0.5:\n",
    "            p1.append(1)\n",
    "        else:\n",
    "            p1.append(0)\n",
    "\n",
    "    print(confusion_matrix(y_test,p1))\n",
    "    print(classification_report(y_test,p1))"
   ]
  },
  {
   "cell_type": "code",
   "execution_count": null,
   "id": "f754515f",
   "metadata": {},
   "outputs": [],
   "source": []
  },
  {
   "cell_type": "code",
   "execution_count": null,
   "id": "2d8b48dc",
   "metadata": {},
   "outputs": [],
   "source": []
  },
  {
   "cell_type": "code",
   "execution_count": null,
   "id": "c5914c4e",
   "metadata": {},
   "outputs": [],
   "source": [
    "#### Fix the above autoencoder and work with classifier"
   ]
  },
  {
   "cell_type": "code",
   "execution_count": null,
   "id": "6c928028",
   "metadata": {},
   "outputs": [],
   "source": [
    "#### Abalation study"
   ]
  },
  {
   "cell_type": "code",
   "execution_count": null,
   "id": "3eba1e93",
   "metadata": {
    "scrolled": true
   },
   "outputs": [],
   "source": [
    "# with sigmoid activation\n",
    "ann_cnn_cnn3 = keras.Sequential([\n",
    "    keras.layers.Dense(128, input_shape=(11,), activation='sigmoid'),\n",
    "    keras.layers.Dense(256, activation='sigmoid'),\n",
    "    keras.layers.Dense(64, activation='sigmoid'),\n",
    "    keras.layers.Dense(1, activation='sigmoid')\n",
    "])\n",
    "\n",
    "ann_cnn_cnn3.compile(optimizer=tf.keras.optimizers.Adam(learning_rate=0.0001),\n",
    "              loss=\"binary_crossentropy\",\n",
    "              metrics=['accuracy',tf.keras.metrics.Precision(),tf.keras.metrics.Recall()])\n",
    "\n",
    "ann_cnn_cnn3.fit(X_train_autoencoder_cnn_cnn_11_12, y_train, epochs=60,validation_split=0.25)\n",
    "\n",
    "pred3=ann_cnn_cnn3.predict(X_test_autoencoder_cnn_cnn_11_12)\n",
    "pred4=[]\n",
    "for j in pred3:\n",
    "    if j[0]>=0.5:\n",
    "        pred4.append(1)\n",
    "    else:\n",
    "        pred4.append(0)\n",
    "        \n",
    "print(confusion_matrix(y_test,pred4))\n",
    "print(classification_report(y_test,pred4))"
   ]
  },
  {
   "cell_type": "code",
   "execution_count": null,
   "id": "4c81ebca",
   "metadata": {},
   "outputs": [],
   "source": [
    "# with leaky activation\n",
    "ann_cnn_cnn4 = keras.Sequential([\n",
    "    keras.layers.Dense(128, input_shape=(11,), activation=tf.keras.layers.LeakyReLU()),\n",
    "    keras.layers.Dense(256, activation=tf.keras.layers.LeakyReLU()),\n",
    "    keras.layers.Dense(64, activation=tf.keras.layers.LeakyReLU()),\n",
    "    keras.layers.Dense(1, activation='sigmoid')\n",
    "])\n",
    "\n",
    "ann_cnn_cnn4.compile(optimizer=tf.keras.optimizers.Adam(learning_rate=0.0001),\n",
    "              loss=\"binary_crossentropy\",\n",
    "              metrics=['accuracy',tf.keras.metrics.Precision(),tf.keras.metrics.Recall()])\n",
    "\n",
    "ann_cnn_cnn4.fit(X_train_autoencoder_cnn_cnn_11_12, y_train, epochs=60,validation_split=0.25)\n",
    "\n",
    "pred4=ann_cnn_cnn4.predict(X_test_autoencoder_cnn_cnn_11_12)\n",
    "pred5=[]\n",
    "for j in pred4:\n",
    "    if j[0]>=0.5:\n",
    "        pred5.append(1)\n",
    "    else:\n",
    "        pred5.append(0)\n",
    "        \n",
    "print(confusion_matrix(y_test,pred5))\n",
    "print(classification_report(y_test,pred5))"
   ]
  },
  {
   "cell_type": "code",
   "execution_count": null,
   "id": "6245602e",
   "metadata": {
    "scrolled": true
   },
   "outputs": [],
   "source": [
    "# with selu activation\n",
    "ann_cnn_cnn5 = keras.Sequential([\n",
    "    keras.layers.Dense(128, input_shape=(11,), activation=\"selu\"),\n",
    "    keras.layers.Dense(256, activation=\"selu\"),\n",
    "    keras.layers.Dense(64, activation=\"selu\"),\n",
    "    keras.layers.Dense(1, activation='sigmoid')\n",
    "])\n",
    "\n",
    "ann_cnn_cnn5.compile(optimizer=tf.keras.optimizers.Adam(learning_rate=0.0001),\n",
    "              loss=\"binary_crossentropy\",\n",
    "              metrics=['accuracy',tf.keras.metrics.Precision(),tf.keras.metrics.Recall()])\n",
    "\n",
    "ann_cnn_cnn5.fit(X_train_autoencoder_cnn_cnn_11_12, y_train, epochs=60,validation_split=0.25)\n",
    "\n",
    "pred5=ann_cnn_cnn4.predict(X_test_autoencoder_cnn_cnn_11_12)\n",
    "pred6=[]\n",
    "for j in pred5:\n",
    "    if j[0]>=0.5:\n",
    "        pred6.append(1)\n",
    "    else:\n",
    "        pred6.append(0)\n",
    "        \n",
    "print(confusion_matrix(y_test,pred6))\n",
    "print(classification_report(y_test,pred6))"
   ]
  },
  {
   "cell_type": "code",
   "execution_count": null,
   "id": "6938f9b7",
   "metadata": {},
   "outputs": [],
   "source": []
  },
  {
   "cell_type": "code",
   "execution_count": null,
   "id": "6847d9b4",
   "metadata": {},
   "outputs": [],
   "source": [
    "### Tuning the classifier head"
   ]
  },
  {
   "cell_type": "code",
   "execution_count": null,
   "id": "127a6f90",
   "metadata": {},
   "outputs": [],
   "source": [
    "from kerastuner import RandomSearch\n",
    "def hyper_model(hp):\n",
    "    model=keras.Sequential() # Building the ANN\n",
    "    for i in range(hp.Int('num_layers',2,6)):  # ANN must have hidden layers in between 2 to 6\n",
    "        model.add(layers.Dense(units=hp.Int('units_'+str(i),min_value=8,max_value=256,step=8),# In each hidden layers the no of neurons must be between 32 to 256\n",
    "                              activation='relu')) # activation function used\n",
    "        model.add(layers.Dense(1,activation='sigmoid'))# Since it is a regressiom problem the output neuron should be 1 and the activation function should be softmax\n",
    "        model.compile(optimizer=tf.keras.optimizers.Adam(      # Using Adam as optimizer and hypertune its parameter\n",
    "                      hp.Choice('learning_rate',[1e-1,1e-2, 1e-3, 1e-4])), # LR for Adam\n",
    "                      loss='binary_crossentropy',\n",
    "                      metrics=['accuracy',tf.keras.metrics.Precision(),tf.keras.metrics.Recall()])\n",
    "        \n",
    "    return model"
   ]
  },
  {
   "cell_type": "code",
   "execution_count": null,
   "id": "a2a9a297",
   "metadata": {},
   "outputs": [],
   "source": [
    "tuner = RandomSearch(\n",
    "    hyper_model,\n",
    "    objective='val_accuracy', # metric used for evaluating the ANN\n",
    "    max_trials=10,\n",
    "    executions_per_trial=5,\n",
    "    directory='project',\n",
    "    project_name='log')# there will be 10 trials and inside each trial there will be 5 execution so in total 30 trials"
   ]
  },
  {
   "cell_type": "code",
   "execution_count": null,
   "id": "ba76ed9c",
   "metadata": {},
   "outputs": [],
   "source": [
    "tuner.search_space_summary()"
   ]
  },
  {
   "cell_type": "code",
   "execution_count": null,
   "id": "8725df0a",
   "metadata": {},
   "outputs": [],
   "source": [
    "X_train_hype, X_test_hype, y_train_hype, y_test_hype =train_test_split(X_train_autoencoder_cnn_cnn_11_12,y_train,test_size=0.2,random_state=42)"
   ]
  },
  {
   "cell_type": "code",
   "execution_count": null,
   "id": "bc296c7d",
   "metadata": {
    "scrolled": true
   },
   "outputs": [],
   "source": [
    "tuner.search(X_train_hype, y_train_hype,epochs=30,validation_data=(X_test_hype, y_test_hype))"
   ]
  },
  {
   "cell_type": "code",
   "execution_count": null,
   "id": "dd04095a",
   "metadata": {},
   "outputs": [],
   "source": [
    "tuner.results_summary()"
   ]
  },
  {
   "cell_type": "code",
   "execution_count": null,
   "id": "2afc8c45",
   "metadata": {},
   "outputs": [],
   "source": [
    "### Plotting the AUC_ROC curves"
   ]
  },
  {
   "cell_type": "code",
   "execution_count": null,
   "id": "65601fcb",
   "metadata": {},
   "outputs": [],
   "source": []
  },
  {
   "cell_type": "code",
   "execution_count": null,
   "id": "279e62f6",
   "metadata": {},
   "outputs": [],
   "source": []
  },
  {
   "cell_type": "code",
   "execution_count": null,
   "id": "b276c56e",
   "metadata": {},
   "outputs": [],
   "source": []
  },
  {
   "cell_type": "code",
   "execution_count": null,
   "id": "44e35e02",
   "metadata": {},
   "outputs": [],
   "source": []
  },
  {
   "cell_type": "code",
   "execution_count": null,
   "id": "4ef9c50a",
   "metadata": {},
   "outputs": [],
   "source": []
  },
  {
   "cell_type": "markdown",
   "id": "d3b29701",
   "metadata": {},
   "source": [
    "## AutoEncoder CNN - MLP"
   ]
  },
  {
   "cell_type": "code",
   "execution_count": null,
   "id": "54e34944",
   "metadata": {},
   "outputs": [],
   "source": [
    "input_dim = Input(shape = (19, 1))\n",
    "\n",
    "# cnn_enc=Sequential()\n",
    "cnn_enc = layers.Conv1D(64, 19, activation='relu', padding='same')(input_dim)\n",
    "cnn_enc = layers.Conv1D(32, 19, activation='relu', padding='same')(cnn_enc)\n",
    "cnn_enc = layers.Conv1D(16, 19, activation='relu', padding='same')(cnn_enc)\n",
    "cnn_enc = layers.Conv1D(8, 19, activation='relu', padding='same')(cnn_enc)\n",
    "cnn_enc = layers.Flatten()(cnn_enc)\n",
    "\n",
    "bottleneck = Dense(11, activation='sigmoid')(cnn_enc)\n",
    "\n",
    "mlp=Dense(32,activation='relu')(bottleneck)\n",
    "mlp=Dense(64,activation='relu')(mlp)\n",
    "mlp=Dense(19,activation='relu')(mlp)\n",
    "\n",
    "autoencoder_cnn_mlp = keras.Model(input_dim, mlp)\n",
    "\n",
    "print(autoencoder_cnn_mlp.summary())\n"
   ]
  },
  {
   "cell_type": "code",
   "execution_count": null,
   "id": "632ec0a1",
   "metadata": {},
   "outputs": [],
   "source": [
    "autoencoder_cnn_mlp.compile(optimizer='adam', loss='mse',metrics=['accuracy','mae','MeanSquaredError'])"
   ]
  },
  {
   "cell_type": "code",
   "execution_count": null,
   "id": "56203787",
   "metadata": {
    "scrolled": true
   },
   "outputs": [],
   "source": [
    "autoencoder_cnn_mlp.fit(X_train_selected_scaled_cnn,X_train_selected_scaled,epochs=100,validation_split=0.2,verbose=2)"
   ]
  },
  {
   "cell_type": "code",
   "execution_count": null,
   "id": "cda219f7",
   "metadata": {},
   "outputs": [],
   "source": [
    "plt.plot(autoencoder_cnn_mlp.history.history['accuracy'])\n",
    "plt.plot(autoencoder_cnn_mlp.history.history['val_accuracy'])\n",
    "plt.title('model accuracy')\n",
    "plt.ylabel('accuracy')\n",
    "plt.xlabel('epoch')\n",
    "plt.legend(['train', 'val'], loc='lower right')\n",
    "plt.show()"
   ]
  },
  {
   "cell_type": "code",
   "execution_count": null,
   "id": "590e6bd1",
   "metadata": {},
   "outputs": [],
   "source": [
    "plt.plot(autoencoder_cnn_mlp.history.history['loss'])\n",
    "plt.plot(autoencoder_cnn_mlp.history.history['val_loss'])\n",
    "plt.title('model accuracy')\n",
    "plt.ylabel('Loss')\n",
    "plt.xlabel('epoch')\n",
    "plt.legend(['train', 'val'], loc='lower right')\n",
    "plt.show()"
   ]
  },
  {
   "cell_type": "code",
   "execution_count": null,
   "id": "f8896f1c",
   "metadata": {},
   "outputs": [],
   "source": [
    "intermediate_layer_model111 = Model(inputs=autoencoder_cnn_mlp.input, outputs=autoencoder_cnn_mlp.get_layer(index=6).output)\n",
    "X_train_autoencoder_cnn_mlp_11_1 = intermediate_layer_model111.predict(X_train_selected_scaled_cnn)\n",
    "X_test_autoencoder_cnn_mlp_11_1 = intermediate_layer_model111.predict(X_test_selected_scaled_cnn)\n",
    "print(\"Shape of train: \",X_train_autoencoder_cnn_mlp_11_1.shape)\n",
    "print(\"Shape of train: \",X_test_autoencoder_cnn_mlp_11_1.shape)"
   ]
  },
  {
   "cell_type": "code",
   "execution_count": null,
   "id": "33ec7cd7",
   "metadata": {
    "scrolled": true
   },
   "outputs": [],
   "source": [
    "ann_cnn_mlp = keras.Sequential([\n",
    "    keras.layers.Dense(128, input_shape=(11,), activation='relu'),\n",
    "    keras.layers.Dense(256, activation='relu'),\n",
    "    keras.layers.Dense(64, activation='relu'),\n",
    "    keras.layers.Dense(1, activation='sigmoid')\n",
    "])\n",
    "\n",
    "ann_cnn_mlp.compile(optimizer=tf.keras.optimizers.Adam(learning_rate=0.0001),\n",
    "              loss=tf.keras.losses.BinaryCrossentropy(),\n",
    "              metrics=['accuracy',tf.keras.metrics.Precision(),tf.keras.metrics.Recall()])\n",
    "\n",
    "ann_cnn_mlp.fit(X_train_autoencoder_cnn_mlp_11_1, y_train, epochs=60,validation_split=0.25)\n",
    "\n",
    "pred7=ann_cnn_mlp.predict(X_test_autoencoder_cnn_mlp_11_1)\n",
    "pred71=[]\n",
    "for j in pred7:\n",
    "    if j[0]>=0.5:\n",
    "        pred71.append(1)\n",
    "    else:\n",
    "        pred71.append(0)\n",
    "        \n",
    "print(confusion_matrix(y_test,pred71))\n",
    "print(classification_report(y_test,pred71))"
   ]
  },
  {
   "cell_type": "code",
   "execution_count": null,
   "id": "e6a0f9ee",
   "metadata": {},
   "outputs": [],
   "source": []
  },
  {
   "cell_type": "markdown",
   "id": "c1372dc9",
   "metadata": {},
   "source": [
    "## Autoencoder MLP-MLP"
   ]
  },
  {
   "cell_type": "code",
   "execution_count": null,
   "id": "597443cf",
   "metadata": {},
   "outputs": [],
   "source": [
    "# AUTOENCODER======= 19->11->19\n",
    "\n",
    "input_dim = Input(shape = (19, ))\n",
    "\n",
    "mlp_mlp3 = Sequential()\n",
    "mlp_mlp3.add(Dense(19,activation = 'relu',input_shape=[19]))\n",
    "mlp_mlp3.add(Dense(11,activation = 'relu'))\n",
    "mlp_mlp3.add(Dense(19,activation = 'relu'))\n",
    "\n",
    "mlp_mlp3.compile(optimizer=Adam(0.001),metrics=['accuracy','mae','MeanSquaredError'],loss='mse')\n",
    "print(mlp_mlp3.summary())"
   ]
  },
  {
   "cell_type": "code",
   "execution_count": null,
   "id": "b7fc72c4",
   "metadata": {
    "scrolled": true
   },
   "outputs": [],
   "source": [
    "mlp_mlp3.fit(x=X_train_selected_scaled, y=X_train_selected_scaled, epochs=100,validation_split=0.2)\n",
    "plt.plot(mlp_mlp3.history.history['accuracy'])\n",
    "plt.plot(mlp_mlp3.history.history['val_accuracy'])\n",
    "plt.title('model accuracy')\n",
    "plt.ylabel('accuracy')\n",
    "plt.xlabel('epoch')\n",
    "plt.legend(['train', 'val'], loc='lower right')\n",
    "plt.show()\n",
    "intermediate_layer_model_mlp1 = Model(inputs=mlp_mlp3.input, outputs=mlp_mlp3.get_layer(index=1).output)\n",
    "X_train_autoencoder_mlp_mlp_11_1 = intermediate_layer_model_mlp1.predict(X_train_selected_scaled)\n",
    "X_test_autoencoder_mlp_mlp_11_1 = intermediate_layer_model_mlp1.predict(X_test_selected_scaled)\n",
    "print(\"Shape of train: \",X_train_autoencoder_mlp_mlp_11_1.shape)\n",
    "print(\"Shape of train: \",X_test_autoencoder_mlp_mlp_11_1.shape)"
   ]
  },
  {
   "cell_type": "code",
   "execution_count": null,
   "id": "9b4b28e9",
   "metadata": {
    "scrolled": true
   },
   "outputs": [],
   "source": [
    "ann_mlp_mlp1 = keras.Sequential([\n",
    "    keras.layers.Dense(128, input_shape=(11,), activation='relu'),\n",
    "    keras.layers.Dense(256, activation='relu'),\n",
    "    keras.layers.Dense(64, activation='relu'),\n",
    "    keras.layers.Dense(1, activation='sigmoid')\n",
    "])\n",
    "\n",
    "ann_mlp_mlp1.compile(optimizer=tf.keras.optimizers.Adam(learning_rate=0.0001),\n",
    "              loss=tf.keras.losses.BinaryCrossentropy(),\n",
    "              metrics=['accuracy',tf.keras.metrics.Precision(),tf.keras.metrics.Recall()])\n",
    "\n",
    "ann_mlp_mlp1.fit(X_train_autoencoder_mlp_mlp_11_1, y_train, epochs=60,validation_split=0.25)\n",
    "\n",
    "pred8=ann_mlp_mlp1.predict(X_test_autoencoder_mlp_mlp_11_1)\n",
    "pred81=[]\n",
    "for j in pred8:\n",
    "    if j[0]>=0.5:\n",
    "        pred81.append(1)\n",
    "    else:\n",
    "        pred81.append(0)\n",
    "        \n",
    "print(confusion_matrix(y_test,pred81))\n",
    "print(classification_report(y_test,pred81))"
   ]
  },
  {
   "cell_type": "code",
   "execution_count": null,
   "id": "4c1c36db",
   "metadata": {},
   "outputs": [],
   "source": [
    "# AUTOENCODER======= 19->15->11->15->19\n",
    "\n",
    "input_dim = Input(shape = (19, ))\n",
    "\n",
    "mlp_mlp5 = Sequential()\n",
    "mlp_mlp5.add(Dense(19,activation = 'relu',input_shape=[19]))\n",
    "mlp_mlp5.add(Dense(15,activation = 'relu'))\n",
    "mlp_mlp5.add(Dense(11,activation = 'relu'))\n",
    "mlp_mlp5.add(Dense(15,activation = 'relu'))\n",
    "mlp_mlp5.add(Dense(19,activation = 'relu'))\n",
    "\n",
    "mlp_mlp5.compile(optimizer=Adam(0.001),metrics=['accuracy','mae','MeanSquaredError'],loss='mse')\n",
    "print(mlp_mlp5.summary())"
   ]
  },
  {
   "cell_type": "code",
   "execution_count": null,
   "id": "6e44342d",
   "metadata": {
    "scrolled": true
   },
   "outputs": [],
   "source": [
    "mlp_mlp5.fit(x=X_train_selected_scaled, y=X_train_selected_scaled, epochs=100,validation_split=0.2)\n",
    "plt.plot(mlp_mlp5.history.history['accuracy'])\n",
    "plt.plot(mlp_mlp5.history.history['val_accuracy'])\n",
    "plt.title('model accuracy')\n",
    "plt.ylabel('accuracy')\n",
    "plt.xlabel('epoch')\n",
    "plt.legend(['train', 'val'], loc='lower right')\n",
    "plt.show()\n",
    "intermediate_layer_model_mlp2 = Model(inputs=mlp_mlp5.input, outputs=mlp_mlp5.get_layer(index=2).output)\n",
    "X_train_autoencoder_mlp_mlp_11_2 = intermediate_layer_model_mlp2.predict(X_train_selected_scaled)\n",
    "X_test_autoencoder_mlp_mlp_11_2 = intermediate_layer_model_mlp2.predict(X_test_selected_scaled)\n",
    "print(\"Shape of train: \",X_train_autoencoder_mlp_mlp_11_2.shape)\n",
    "print(\"Shape of train: \",X_test_autoencoder_mlp_mlp_11_2.shape)"
   ]
  },
  {
   "cell_type": "code",
   "execution_count": null,
   "id": "51a6aa19",
   "metadata": {
    "scrolled": true
   },
   "outputs": [],
   "source": [
    "ann_mlp_mlp2 = keras.Sequential([\n",
    "    keras.layers.Dense(128, input_shape=(11,), activation='relu'),\n",
    "    keras.layers.Dense(256, activation='relu'),\n",
    "    keras.layers.Dense(64, activation='relu'),\n",
    "    keras.layers.Dense(1, activation='sigmoid')\n",
    "])\n",
    "\n",
    "ann_mlp_mlp2.compile(optimizer=tf.keras.optimizers.Adam(learning_rate=0.0001),\n",
    "              loss=tf.keras.losses.BinaryCrossentropy(),\n",
    "              metrics=['accuracy',tf.keras.metrics.Precision(),tf.keras.metrics.Recall()])\n",
    "\n",
    "ann_mlp_mlp2.fit(X_train_autoencoder_mlp_mlp_11_2, y_train, epochs=60,validation_split=0.25)\n",
    "\n",
    "pred9=ann_mlp_mlp2.predict(X_test_autoencoder_mlp_mlp_11_2)\n",
    "pred91=[]\n",
    "for j in pred9:\n",
    "    if j[0]>=0.5:\n",
    "        pred91.append(1)\n",
    "    else:\n",
    "        pred91.append(0)\n",
    "        \n",
    "print(confusion_matrix(y_test,pred91))\n",
    "print(classification_report(y_test,pred91))"
   ]
  },
  {
   "cell_type": "code",
   "execution_count": null,
   "id": "c61e4ad6",
   "metadata": {},
   "outputs": [],
   "source": [
    "y_train = pd.Series(y, index=X_train_selected.index)\n",
    "y_test=pd.Series(y,index=X_test_selected.index)"
   ]
  },
  {
   "cell_type": "code",
   "execution_count": null,
   "id": "52ad6408",
   "metadata": {},
   "outputs": [],
   "source": [
    "X_train_selected.shape"
   ]
  },
  {
   "cell_type": "code",
   "execution_count": null,
   "id": "18f8e43d",
   "metadata": {},
   "outputs": [],
   "source": [
    "y_test.shape"
   ]
  },
  {
   "cell_type": "code",
   "execution_count": null,
   "id": "e34823e0",
   "metadata": {},
   "outputs": [],
   "source": []
  },
  {
   "cell_type": "code",
   "execution_count": null,
   "id": "e0680d22",
   "metadata": {},
   "outputs": [],
   "source": [
    "# CNN Encoder- CNN Decoder\n",
    "\n",
    "def roc_curve_and_score(y_test, pred_proba):\n",
    "    fpr, tpr, thresholds = roc_curve(y_test.ravel(), pred_proba.ravel())\n",
    "    roc_auc = roc_auc_score(y_test.ravel(), pred_proba.ravel())\n",
    "    return thresholds,fpr, tpr, roc_auc\n",
    "\n",
    "\n",
    "plt.figure(figsize=(8, 6))\n",
    "plt.rcParams.update({'font.size': 14})\n",
    "plt.grid()\n",
    "# CNN-CNN\n",
    "thresholds_cc,fpr_cc, tpr_cc, roc_auc_cc = roc_curve_and_score(y_test, pred2)\n",
    "plt.plot(fpr_cc, tpr_cc, color='darkorange', lw=2,\n",
    "         label='CNN-CNN={0:.3f}'.format(roc_auc_cc))\n",
    "# CNN-MLP\n",
    "thresholds_cm,fpr_cm, tpr_cm, roc_auc_cm = roc_curve_and_score(y_test, pred7)\n",
    "plt.plot(fpr_cm, tpr_cm, color='green', lw=2,\n",
    "         label='CNN-MLP={0:.3f}'.format(roc_auc_cm))\n",
    "# MLP-MLP\n",
    "thresholds_mm,fpr_mm, tpr_mm, roc_auc_mm = roc_curve_and_score(y_test, pred8)\n",
    "plt.plot(fpr_mm, tpr_mm, color='crimson', lw=2,\n",
    "         label='MLP-MLP={0:.3f}'.format(roc_auc_mm))\n",
    "plt.plot([0, 1], [0, 1], color='navy', lw=1, linestyle='--')\n",
    "plt.legend(loc=\"lower right\")\n",
    "plt.xlim([0.0, 1.0])\n",
    "plt.ylim([0.0, 1.05])\n",
    "plt.xlabel('FPR')\n",
    "plt.ylabel('TPR')\n",
    "plt.show()"
   ]
  },
  {
   "cell_type": "code",
   "execution_count": null,
   "id": "5c566de8",
   "metadata": {},
   "outputs": [],
   "source": [
    "y_test.shape"
   ]
  },
  {
   "cell_type": "code",
   "execution_count": null,
   "id": "4c87f92a",
   "metadata": {},
   "outputs": [],
   "source": [
    "auc_for_cnncnn=pd.concat([pd.Series(thresholds_cc),pd.Series(fpr_cc),pd.Series(tpr_cc)],axis=1)"
   ]
  },
  {
   "cell_type": "code",
   "execution_count": null,
   "id": "e5d54ff2",
   "metadata": {},
   "outputs": [],
   "source": [
    "auc_for_cnncnn.columns=['thresholds','fpr','tpr']"
   ]
  },
  {
   "cell_type": "code",
   "execution_count": null,
   "id": "966f0659",
   "metadata": {},
   "outputs": [],
   "source": [
    "auc_for_cnncnn.head()"
   ]
  },
  {
   "cell_type": "code",
   "execution_count": null,
   "id": "cfccb73f",
   "metadata": {},
   "outputs": [],
   "source": [
    "auc_for_cnncnn.to_excel(\"auc_roc_comparison.xlsx\")"
   ]
  },
  {
   "cell_type": "code",
   "execution_count": null,
   "id": "2f91dee1",
   "metadata": {},
   "outputs": [],
   "source": [
    "thresholding_list=[]\n",
    "\n",
    "for thres in thresholds_cc:\n",
    "    row=[]\n",
    "    pred_thres=[]\n",
    "    for j in pred2:\n",
    "        if j[0]>=thres:\n",
    "            pred_thres.append(1)\n",
    "        else:\n",
    "            pred_thres.append(0)\n",
    "    row.append(thres)\n",
    "    row.append(accuracy_score(y_test,pred_thres))\n",
    "    row.append(f1_score(y_test,pred_thres))\n",
    "    row.append(precision_score(y_test,pred_thres))\n",
    "    row.append(recall_score(y_test,pred_thres))\n",
    "    thresholding_list.append(row)\n",
    "\n",
    "thresholding_df=pd.DataFrame(thresholding_list)\n",
    "thresholding_df.columns=['Threshold','Accuracy','F1 Score','Precision','Recall']"
   ]
  },
  {
   "cell_type": "code",
   "execution_count": null,
   "id": "d1452e7c",
   "metadata": {},
   "outputs": [],
   "source": [
    "thresholding_df.head()"
   ]
  },
  {
   "cell_type": "code",
   "execution_count": null,
   "id": "2233d3bb",
   "metadata": {},
   "outputs": [],
   "source": [
    "## Sorting the dataframe by F1 Score"
   ]
  },
  {
   "cell_type": "code",
   "execution_count": null,
   "id": "333feec2",
   "metadata": {},
   "outputs": [],
   "source": [
    "thresholding_df.nlargest(n=20,columns='F1 Score')"
   ]
  },
  {
   "cell_type": "code",
   "execution_count": null,
   "id": "1006a9ad",
   "metadata": {},
   "outputs": [],
   "source": []
  },
  {
   "cell_type": "code",
   "execution_count": null,
   "id": "1049f34d",
   "metadata": {},
   "outputs": [],
   "source": [
    "### classifer after hypertuned"
   ]
  },
  {
   "cell_type": "code",
   "execution_count": null,
   "id": "fcebffeb",
   "metadata": {
    "scrolled": true
   },
   "outputs": [],
   "source": [
    "# with leaky activation\n",
    "hype_ann = keras.Sequential([\n",
    "    keras.layers.Dense(160, input_shape=(11,), activation='relu'),\n",
    "    keras.layers.Dense(64, activation='relu'),\n",
    "    keras.layers.Dense(1, activation='sigmoid')\n",
    "])\n",
    "\n",
    "hype_ann.compile(optimizer=tf.keras.optimizers.Adam(learning_rate=0.01),\n",
    "              loss=\"binary_crossentropy\",\n",
    "              metrics=['accuracy',tf.keras.metrics.Precision(),tf.keras.metrics.Recall()])\n",
    "\n",
    "hype_ann.fit(X_train_autoencoder_cnn_cnn_11_12, y_train, epochs=60,validation_split=0.25)\n",
    "\n",
    "pred_hype=hype_ann.predict(X_test_autoencoder_cnn_cnn_11_12)\n",
    "pred_hype1=[]\n",
    "for j in pred_hype:\n",
    "    if j[0]>=0.5:\n",
    "        pred_hype1.append(1)\n",
    "    else:\n",
    "        pred_hype1.append(0)\n",
    "        \n",
    "print(confusion_matrix(y_test,pred_hype1))\n",
    "print(classification_report(y_test,pred_hype1))"
   ]
  },
  {
   "cell_type": "code",
   "execution_count": null,
   "id": "1fac1c58",
   "metadata": {},
   "outputs": [],
   "source": []
  },
  {
   "cell_type": "code",
   "execution_count": null,
   "id": "a892da53",
   "metadata": {},
   "outputs": [],
   "source": []
  },
  {
   "cell_type": "code",
   "execution_count": null,
   "id": "b6cfd908",
   "metadata": {},
   "outputs": [],
   "source": []
  },
  {
   "cell_type": "code",
   "execution_count": null,
   "id": "272a7302",
   "metadata": {},
   "outputs": [],
   "source": []
  },
  {
   "cell_type": "code",
   "execution_count": null,
   "id": "3e744b66",
   "metadata": {},
   "outputs": [],
   "source": []
  }
 ],
 "metadata": {
  "kernelspec": {
   "display_name": "Python 3 (ipykernel)",
   "language": "python",
   "name": "python3"
  },
  "language_info": {
   "codemirror_mode": {
    "name": "ipython",
    "version": 3
   },
   "file_extension": ".py",
   "mimetype": "text/x-python",
   "name": "python",
   "nbconvert_exporter": "python",
   "pygments_lexer": "ipython3",
   "version": "3.9.13"
  }
 },
 "nbformat": 4,
 "nbformat_minor": 5
}
